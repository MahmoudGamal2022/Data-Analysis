{
 "cells": [
  {
   "cell_type": "markdown",
   "id": "83479c37",
   "metadata": {},
   "source": [
    "\n",
    "# Project: Investigate a Dataset - [No-show]\n",
    "\n",
    "## Table of Contents\n",
    "<ul>\n",
    "<li><a href=\"#intro\">Introduction</a></li>\n",
    "<li><a href=\"#wrangling\">Data Wrangling</a></li>\n",
    "<li><a href=\"#eda\">Exploratory Data Analysis</a></li>\n",
    "<li><a href=\"#conclusions\">Conclusions</a></li>\n",
    "</ul>"
   ]
  },
  {
   "cell_type": "markdown",
   "id": "8cdb2bd2",
   "metadata": {},
   "source": [
    "<a id='intro'></a>\n",
    "## Introduction\n",
    "<ul>In this project I have investigated a dataset of appoinment records for doctor \n",
    "The data includes some attributes of patients and state if the patients showed up to appointments. The analysis is focused on finding trends influencing patients to show or not show up to appointments.\n",
    "</ul>\n",
    "\n",
    "### Dataset Description :\n",
    "\n",
    "##### we will analysis the dataset (No-show) this data set cointain of : 110,527 Raw, 14 Column. \n",
    "\n",
    "<!DOCTYPE html>\n",
    "<html>\n",
    "<head>\n",
    "<style>\n",
    "table {\n",
    "  font-family: arial, sans-serif;\n",
    "  border-collapse: collapse;\n",
    "  width: 100%;\n",
    "}\n",
    "\n",
    "td, th {\n",
    "  border: 1px solid #dddddd;\n",
    "  text-align: center; \n",
    "  vertical-align: middle;\n",
    "  padding: 8px;\n",
    "  height: 50px; \n",
    "  width: 50px;\n",
    "}\n",
    "\n",
    "tr:nth-child(even) {\n",
    "  background-color: #dddddd;\n",
    "    \n",
    "}\n",
    "</style>\n",
    "</head>\n",
    "<body>\n",
    "\n",
    "<h2>Dataset description</h2>\n",
    "\n",
    "<table>\n",
    "  <tr>\n",
    "      <td style=\"text-align: center; vertical-align: middle;foront:B\"><b>column</b></td>\n",
    "    <td style=\"text-align: center; vertical-align: middle;\"><b>Data type</b></td>\n",
    "    <td style=\"text-align: center; vertical-align: middle;\"><b>Description</b></td>\n",
    "    \n",
    "  </tr>\n",
    "  <tr>\n",
    "    <td style=\"text-align: center; vertical-align: middle;\">PatientId</td>\n",
    "    <td style=\"text-align: center; vertical-align: middle;\">float64</td>\n",
    "    <td style=\"text-align: center; vertical-align: middle;\">Identification of a patient</td>\n",
    "  </tr>\n",
    "  <tr>\n",
    "    <td style=\"text-align: center; vertical-align: middle;\">AppointmentID</td>\n",
    "    <td style=\"text-align: center; vertical-align: middle;\">int64</td>\n",
    "    <td style=\"text-align: center; vertical-align: middle;\">Identification of each appointment</td>\n",
    "  </tr>\n",
    "  <tr>\n",
    "    <td style=\"text-align: center; vertical-align: middle;\">Gender</td>\n",
    "    <td style=\"text-align: center; vertical-align: middle;\">object</td>\n",
    "    <td style=\"text-align: left; vertical-align: middle;\">Male or Female . Female is the greater proportion, woman takes way more care of they health in comparison to man</td>\n",
    "  </tr>\n",
    "  <tr>\n",
    "    <td style=\"text-align: center; vertical-align: middle;\">ScheduledDay</td>\n",
    "    <td style=\"text-align: center; vertical-align: middle;\">object</td>\n",
    "    <td style=\"text-align: center; vertical-align: middle;\">The day of the actuall appointment, when they have to visit the doctor.</td>\n",
    "  </tr>\n",
    "  <tr>\n",
    "    <td style=\"text-align: center; vertical-align: middle;\">AppointmentDay</td>\n",
    "    <td style=\"text-align: center; vertical-align: middle;\">object</td>\n",
    "    <td style=\"text-align: center; vertical-align: middle;\">The day someone called or registered the appointment, this is before appointment of course.</td>\n",
    "  </tr>\n",
    "  <tr>\n",
    "    <td style=\"text-align: center; vertical-align: middle;\">Age</td>\n",
    "    <td style=\"text-align: center; vertical-align: middle;\">int64</td>\n",
    "    <td style=\"text-align: center; vertical-align: middle;\">How old is the patient.</td>\n",
    "  </tr>\n",
    "  <tr>\n",
    "    <td style=\"text-align: center; vertical-align: middle;\">Neighbourhood</td>\n",
    "    <td style=\"text-align: center; vertical-align: middle;\">object</td>\n",
    "    <td style=\"text-align: center; vertical-align: middle;\">Where the appointment takes place.</td>\n",
    "  </tr>\n",
    "  <tr>\n",
    "    <td style=\"text-align: center; vertical-align: middle;\">Scholarship</td>\n",
    "    <td style=\"text-align: center; vertical-align: middle;\">int64</td>\n",
    "    <td style=\"text-align: center; vertical-align: middle;\">True of False </td>    \n",
    "  </tr>\n",
    "  <tr>   \n",
    "    <td style=\"text-align: center; vertical-align: middle;\">Hipertension</td>\n",
    "    <td style=\"text-align: center; vertical-align: middle;\">int64</td>\n",
    "    <td style=\"text-align: center; vertical-align: middle;\">True of False </td>\n",
    "  </tr>\n",
    "  <tr>\n",
    "    <td style=\"text-align: center; vertical-align: middle;\">Diabetes</td>\n",
    "    <td style=\"text-align: center; vertical-align: middle;\">int64</td>\n",
    "    <td style=\"text-align: center; vertical-align: middle;\">True of False </td>\n",
    "  </tr>\n",
    "  <tr>\n",
    "    <td style=\"text-align: center; vertical-align: middle;\">Alcoholism</td>\n",
    "    <td style=\"text-align: center; vertical-align: middle;\">int64</td>\n",
    "    <td style=\"text-align: center; vertical-align: middle;\">True of False </td>\n",
    "  </tr>\n",
    "  <tr>\n",
    "    <td style=\"text-align: center; vertical-align: middle;\">Handcap</td>\n",
    "    <td style=\"text-align: center; vertical-align: middle;\">int64</td>\n",
    "    <td style=\"text-align: center; vertical-align: middle;\">True of False </td>\n",
    "  </tr>\n",
    "  <tr>\n",
    "    <td style=\"text-align: center; vertical-align: middle;\">SMS_received</td>\n",
    "    <td style=\"text-align: center; vertical-align: middle;\">int64</td>\n",
    "    <td style=\"text-align: center; vertical-align: middle;\">What if that possible to predict someone to no-show an appointment?</td>\n",
    "  </tr>\n",
    "  <tr>\n",
    "    <td style=\"text-align: center; vertical-align: middle;\">No-show</td>\n",
    "    <td style=\"text-align: center; vertical-align: middle;\">object</td>\n",
    "    <td style=\"text-align: center; vertical-align: middle;\">True of False </td>\n",
    "  </tr>\n",
    "</table>\n",
    "\n",
    "</body>\n",
    "</html>\n",
    "\n",
    "\n",
    "\n",
    "\n",
    "\n",
    "### Question(s) for Analysis\n",
    "#### Q1 : Can the Gender be considered as a factor to predict if a patient will show up for their scheduled appointment?\n",
    "#### Q2 : Can the Gender and Alcoholism be considered as a factor to predict if a patient will show up for their scheduled appointment?\n",
    "#### Q3 : Can the Gender and Scholarship be considered as a factor to predict if a patient will show up for their scheduled appointment?\n",
    "#### Q4 : Can the Gender and Handicap be considered as a factor to predict if a patient will show up for their scheduled appointment?\n",
    "#### Q5 : Can the Gender and SMS_received be considered as a factor to predict if a patient will show up for their scheduled appointment?\n",
    "#### Q6 : Can the Alcoholism and diseases be considered as a factor to predict if a patient will show up for their scheduled appointment?\n",
    "#### Q7 : Can the Age be considered as a factor to predict if a patient will show up for their scheduled appointment?\n",
    "#### Q8 : Can the Gender be considered as a factor to predict if a patient will show up for their scheduled appointment?\n",
    "#### Q9 : Can the Scholarship be considered as a factor to predict if a patient will show up for their scheduled appointment?\n",
    "#### Q10 : Can the Alcoholism be considered as a factor to predict if a patient will show up for their scheduled appointment?\n",
    "#### Q11 : Can the SMS_received be considered as a factor to predict if a patient will show up for their scheduled appointment?\n",
    "#### Q12 : Can the Handicap be considered as a factor to predict if a patient will show up for their scheduled appointment?\n",
    "#### Q13 : Can the Diabetes be considered as a factor to predict if a patient will show up for their scheduled appointment?\n",
    "#### Q14 : Can the Hypertension be considered as a factor to predict if a patient will show up for their scheduled appointment?\n",
    "#### Q15 : Can the waiting period between scheduled day and appointment day be considered as a factor to predict if a patient will show up for their scheduled appointment?\n",
    "\n",
    "\n"
   ]
  },
  {
   "cell_type": "code",
   "execution_count": 1,
   "id": "38581374",
   "metadata": {},
   "outputs": [],
   "source": [
    "# Use this cell to set up import statements for all of the packages that you\n",
    "#   plan to use.\n",
    "# Remember to include a 'magic word' so that your visualizations are plotted\n",
    "#   inline with the notebook. See this page for more:\n",
    "#   http://ipython.readthedocs.io/en/stable/interactive/magics.html\n",
    "# import all packages and set plots to be embedded inline\n",
    "import numpy as np\n",
    "import pandas as pd\n",
    "import matplotlib.pyplot as plt\n",
    "import seaborn as sns\n",
    "%matplotlib inline"
   ]
  },
  {
   "cell_type": "markdown",
   "id": "8ca787f8",
   "metadata": {},
   "source": [
    "#### Loading Data from CSV file"
   ]
  },
  {
   "cell_type": "code",
   "execution_count": 2,
   "id": "e18945c4",
   "metadata": {},
   "outputs": [
    {
     "data": {
      "text/html": [
       "<div>\n",
       "<style scoped>\n",
       "    .dataframe tbody tr th:only-of-type {\n",
       "        vertical-align: middle;\n",
       "    }\n",
       "\n",
       "    .dataframe tbody tr th {\n",
       "        vertical-align: top;\n",
       "    }\n",
       "\n",
       "    .dataframe thead th {\n",
       "        text-align: right;\n",
       "    }\n",
       "</style>\n",
       "<table border=\"1\" class=\"dataframe\">\n",
       "  <thead>\n",
       "    <tr style=\"text-align: right;\">\n",
       "      <th></th>\n",
       "      <th>PatientId</th>\n",
       "      <th>AppointmentID</th>\n",
       "      <th>Gender</th>\n",
       "      <th>ScheduledDay</th>\n",
       "      <th>AppointmentDay</th>\n",
       "      <th>Age</th>\n",
       "      <th>Neighbourhood</th>\n",
       "      <th>Scholarship</th>\n",
       "      <th>Hipertension</th>\n",
       "      <th>Diabetes</th>\n",
       "      <th>Alcoholism</th>\n",
       "      <th>Handcap</th>\n",
       "      <th>SMS_received</th>\n",
       "      <th>No-show</th>\n",
       "    </tr>\n",
       "  </thead>\n",
       "  <tbody>\n",
       "    <tr>\n",
       "      <th>0</th>\n",
       "      <td>2.987250e+13</td>\n",
       "      <td>5642903</td>\n",
       "      <td>F</td>\n",
       "      <td>2016-04-29T18:38:08Z</td>\n",
       "      <td>2016-04-29T00:00:00Z</td>\n",
       "      <td>62</td>\n",
       "      <td>JARDIM DA PENHA</td>\n",
       "      <td>0</td>\n",
       "      <td>1</td>\n",
       "      <td>0</td>\n",
       "      <td>0</td>\n",
       "      <td>0</td>\n",
       "      <td>0</td>\n",
       "      <td>No</td>\n",
       "    </tr>\n",
       "    <tr>\n",
       "      <th>1</th>\n",
       "      <td>5.589978e+14</td>\n",
       "      <td>5642503</td>\n",
       "      <td>M</td>\n",
       "      <td>2016-04-29T16:08:27Z</td>\n",
       "      <td>2016-04-29T00:00:00Z</td>\n",
       "      <td>56</td>\n",
       "      <td>JARDIM DA PENHA</td>\n",
       "      <td>0</td>\n",
       "      <td>0</td>\n",
       "      <td>0</td>\n",
       "      <td>0</td>\n",
       "      <td>0</td>\n",
       "      <td>0</td>\n",
       "      <td>No</td>\n",
       "    </tr>\n",
       "    <tr>\n",
       "      <th>2</th>\n",
       "      <td>4.262962e+12</td>\n",
       "      <td>5642549</td>\n",
       "      <td>F</td>\n",
       "      <td>2016-04-29T16:19:04Z</td>\n",
       "      <td>2016-04-29T00:00:00Z</td>\n",
       "      <td>62</td>\n",
       "      <td>MATA DA PRAIA</td>\n",
       "      <td>0</td>\n",
       "      <td>0</td>\n",
       "      <td>0</td>\n",
       "      <td>0</td>\n",
       "      <td>0</td>\n",
       "      <td>0</td>\n",
       "      <td>No</td>\n",
       "    </tr>\n",
       "    <tr>\n",
       "      <th>3</th>\n",
       "      <td>8.679512e+11</td>\n",
       "      <td>5642828</td>\n",
       "      <td>F</td>\n",
       "      <td>2016-04-29T17:29:31Z</td>\n",
       "      <td>2016-04-29T00:00:00Z</td>\n",
       "      <td>8</td>\n",
       "      <td>PONTAL DE CAMBURI</td>\n",
       "      <td>0</td>\n",
       "      <td>0</td>\n",
       "      <td>0</td>\n",
       "      <td>0</td>\n",
       "      <td>0</td>\n",
       "      <td>0</td>\n",
       "      <td>No</td>\n",
       "    </tr>\n",
       "    <tr>\n",
       "      <th>4</th>\n",
       "      <td>8.841186e+12</td>\n",
       "      <td>5642494</td>\n",
       "      <td>F</td>\n",
       "      <td>2016-04-29T16:07:23Z</td>\n",
       "      <td>2016-04-29T00:00:00Z</td>\n",
       "      <td>56</td>\n",
       "      <td>JARDIM DA PENHA</td>\n",
       "      <td>0</td>\n",
       "      <td>1</td>\n",
       "      <td>1</td>\n",
       "      <td>0</td>\n",
       "      <td>0</td>\n",
       "      <td>0</td>\n",
       "      <td>No</td>\n",
       "    </tr>\n",
       "  </tbody>\n",
       "</table>\n",
       "</div>"
      ],
      "text/plain": [
       "      PatientId  AppointmentID Gender          ScheduledDay  \\\n",
       "0  2.987250e+13        5642903      F  2016-04-29T18:38:08Z   \n",
       "1  5.589978e+14        5642503      M  2016-04-29T16:08:27Z   \n",
       "2  4.262962e+12        5642549      F  2016-04-29T16:19:04Z   \n",
       "3  8.679512e+11        5642828      F  2016-04-29T17:29:31Z   \n",
       "4  8.841186e+12        5642494      F  2016-04-29T16:07:23Z   \n",
       "\n",
       "         AppointmentDay  Age      Neighbourhood  Scholarship  Hipertension  \\\n",
       "0  2016-04-29T00:00:00Z   62    JARDIM DA PENHA            0             1   \n",
       "1  2016-04-29T00:00:00Z   56    JARDIM DA PENHA            0             0   \n",
       "2  2016-04-29T00:00:00Z   62      MATA DA PRAIA            0             0   \n",
       "3  2016-04-29T00:00:00Z    8  PONTAL DE CAMBURI            0             0   \n",
       "4  2016-04-29T00:00:00Z   56    JARDIM DA PENHA            0             1   \n",
       "\n",
       "   Diabetes  Alcoholism  Handcap  SMS_received No-show  \n",
       "0         0           0        0             0      No  \n",
       "1         0           0        0             0      No  \n",
       "2         0           0        0             0      No  \n",
       "3         0           0        0             0      No  \n",
       "4         1           0        0             0      No  "
      ]
     },
     "execution_count": 2,
     "metadata": {},
     "output_type": "execute_result"
    }
   ],
   "source": [
    "# load dataset \n",
    "df = df = pd.read_csv(\"noshowappointments-kagglev2-may-2016.csv\")\n",
    "# show first 5 raw\n",
    "df.head()"
   ]
  },
  {
   "cell_type": "markdown",
   "id": "80a005bb",
   "metadata": {},
   "source": [
    "From the First impression we can see that the column name is mess"
   ]
  },
  {
   "cell_type": "markdown",
   "id": "3bb57687",
   "metadata": {},
   "source": [
    "<a id='wrangling'></a>\n",
    "## Data Wrangling\n",
    "\n",
    "> **Tip**: In this section of the report, you will load in the data, check for cleanliness, and then trim and clean your dataset for analysis. Make sure that you **document your data cleaning steps in mark-down cells precisely and justify your cleaning decisions.**\n",
    "### General Properties\n",
    "> **Tip**: You should _not_ perform too many operations in each cell. Create cells freely to explore your data. One option that you can take with this project is to do a lot of explorations in an initial notebook. These don't have to be organized, but make sure you use enough comments to understand the purpose of each code cell. Then, after you're done with your analysis, create a duplicate notebook where you will trim the excess and organize your steps so that you have a flowing, cohesive report."
   ]
  },
  {
   "cell_type": "markdown",
   "id": "923d87c4",
   "metadata": {},
   "source": [
    "### i prefer that editing name column in the first to be easy after that \n",
    "#### so i will rename columns "
   ]
  },
  {
   "cell_type": "code",
   "execution_count": 3,
   "id": "bbe7ffe2",
   "metadata": {},
   "outputs": [
    {
     "data": {
      "text/html": [
       "<div>\n",
       "<style scoped>\n",
       "    .dataframe tbody tr th:only-of-type {\n",
       "        vertical-align: middle;\n",
       "    }\n",
       "\n",
       "    .dataframe tbody tr th {\n",
       "        vertical-align: top;\n",
       "    }\n",
       "\n",
       "    .dataframe thead th {\n",
       "        text-align: right;\n",
       "    }\n",
       "</style>\n",
       "<table border=\"1\" class=\"dataframe\">\n",
       "  <thead>\n",
       "    <tr style=\"text-align: right;\">\n",
       "      <th></th>\n",
       "      <th>PatientId</th>\n",
       "      <th>AppointmentID</th>\n",
       "      <th>Gender</th>\n",
       "      <th>Scheduled_Day</th>\n",
       "      <th>Appointment_Day</th>\n",
       "      <th>Age</th>\n",
       "      <th>Neighbourhood</th>\n",
       "      <th>Scholarship</th>\n",
       "      <th>Hypertension</th>\n",
       "      <th>Diabetes</th>\n",
       "      <th>Alcoholism</th>\n",
       "      <th>Handicap</th>\n",
       "      <th>SMS_received</th>\n",
       "      <th>No_show</th>\n",
       "    </tr>\n",
       "  </thead>\n",
       "  <tbody>\n",
       "    <tr>\n",
       "      <th>0</th>\n",
       "      <td>2.987250e+13</td>\n",
       "      <td>5642903</td>\n",
       "      <td>F</td>\n",
       "      <td>2016-04-29T18:38:08Z</td>\n",
       "      <td>2016-04-29T00:00:00Z</td>\n",
       "      <td>62</td>\n",
       "      <td>JARDIM DA PENHA</td>\n",
       "      <td>0</td>\n",
       "      <td>1</td>\n",
       "      <td>0</td>\n",
       "      <td>0</td>\n",
       "      <td>0</td>\n",
       "      <td>0</td>\n",
       "      <td>No</td>\n",
       "    </tr>\n",
       "    <tr>\n",
       "      <th>1</th>\n",
       "      <td>5.589978e+14</td>\n",
       "      <td>5642503</td>\n",
       "      <td>M</td>\n",
       "      <td>2016-04-29T16:08:27Z</td>\n",
       "      <td>2016-04-29T00:00:00Z</td>\n",
       "      <td>56</td>\n",
       "      <td>JARDIM DA PENHA</td>\n",
       "      <td>0</td>\n",
       "      <td>0</td>\n",
       "      <td>0</td>\n",
       "      <td>0</td>\n",
       "      <td>0</td>\n",
       "      <td>0</td>\n",
       "      <td>No</td>\n",
       "    </tr>\n",
       "    <tr>\n",
       "      <th>2</th>\n",
       "      <td>4.262962e+12</td>\n",
       "      <td>5642549</td>\n",
       "      <td>F</td>\n",
       "      <td>2016-04-29T16:19:04Z</td>\n",
       "      <td>2016-04-29T00:00:00Z</td>\n",
       "      <td>62</td>\n",
       "      <td>MATA DA PRAIA</td>\n",
       "      <td>0</td>\n",
       "      <td>0</td>\n",
       "      <td>0</td>\n",
       "      <td>0</td>\n",
       "      <td>0</td>\n",
       "      <td>0</td>\n",
       "      <td>No</td>\n",
       "    </tr>\n",
       "    <tr>\n",
       "      <th>3</th>\n",
       "      <td>8.679512e+11</td>\n",
       "      <td>5642828</td>\n",
       "      <td>F</td>\n",
       "      <td>2016-04-29T17:29:31Z</td>\n",
       "      <td>2016-04-29T00:00:00Z</td>\n",
       "      <td>8</td>\n",
       "      <td>PONTAL DE CAMBURI</td>\n",
       "      <td>0</td>\n",
       "      <td>0</td>\n",
       "      <td>0</td>\n",
       "      <td>0</td>\n",
       "      <td>0</td>\n",
       "      <td>0</td>\n",
       "      <td>No</td>\n",
       "    </tr>\n",
       "    <tr>\n",
       "      <th>4</th>\n",
       "      <td>8.841186e+12</td>\n",
       "      <td>5642494</td>\n",
       "      <td>F</td>\n",
       "      <td>2016-04-29T16:07:23Z</td>\n",
       "      <td>2016-04-29T00:00:00Z</td>\n",
       "      <td>56</td>\n",
       "      <td>JARDIM DA PENHA</td>\n",
       "      <td>0</td>\n",
       "      <td>1</td>\n",
       "      <td>1</td>\n",
       "      <td>0</td>\n",
       "      <td>0</td>\n",
       "      <td>0</td>\n",
       "      <td>No</td>\n",
       "    </tr>\n",
       "  </tbody>\n",
       "</table>\n",
       "</div>"
      ],
      "text/plain": [
       "      PatientId  AppointmentID Gender         Scheduled_Day  \\\n",
       "0  2.987250e+13        5642903      F  2016-04-29T18:38:08Z   \n",
       "1  5.589978e+14        5642503      M  2016-04-29T16:08:27Z   \n",
       "2  4.262962e+12        5642549      F  2016-04-29T16:19:04Z   \n",
       "3  8.679512e+11        5642828      F  2016-04-29T17:29:31Z   \n",
       "4  8.841186e+12        5642494      F  2016-04-29T16:07:23Z   \n",
       "\n",
       "        Appointment_Day  Age      Neighbourhood  Scholarship  Hypertension  \\\n",
       "0  2016-04-29T00:00:00Z   62    JARDIM DA PENHA            0             1   \n",
       "1  2016-04-29T00:00:00Z   56    JARDIM DA PENHA            0             0   \n",
       "2  2016-04-29T00:00:00Z   62      MATA DA PRAIA            0             0   \n",
       "3  2016-04-29T00:00:00Z    8  PONTAL DE CAMBURI            0             0   \n",
       "4  2016-04-29T00:00:00Z   56    JARDIM DA PENHA            0             1   \n",
       "\n",
       "   Diabetes  Alcoholism  Handicap  SMS_received No_show  \n",
       "0         0           0         0             0      No  \n",
       "1         0           0         0             0      No  \n",
       "2         0           0         0             0      No  \n",
       "3         0           0         0             0      No  \n",
       "4         1           0         0             0      No  "
      ]
     },
     "execution_count": 3,
     "metadata": {},
     "output_type": "execute_result"
    }
   ],
   "source": [
    "# Rename columns that have a wrong name or to be easy to handel\n",
    "df = df.rename(columns={\"ScheduledDay\": \"Scheduled_Day\", \"AppointmentDay\": \"Appointment_Day\",\"Hipertension\":\"Hypertension\",\n",
    "                        \"Handcap\":\"Handicap\",\"No-show\":\"No_show\"})\n",
    "# check that is rename\n",
    "df.head()"
   ]
  },
  {
   "cell_type": "markdown",
   "id": "7d1483f2",
   "metadata": {},
   "source": [
    "<li> columns rename successfully.</li>"
   ]
  },
  {
   "cell_type": "code",
   "execution_count": 4,
   "id": "a49a8667",
   "metadata": {},
   "outputs": [
    {
     "data": {
      "text/plain": [
       "(110527, 14)"
      ]
     },
     "execution_count": 4,
     "metadata": {},
     "output_type": "execute_result"
    }
   ],
   "source": [
    "# number of raw and columns\n",
    "df.shape"
   ]
  },
  {
   "cell_type": "markdown",
   "id": "cab29d84",
   "metadata": {},
   "source": [
    "<li>we have 110527 rows and 14 columns.</li>"
   ]
  },
  {
   "cell_type": "code",
   "execution_count": 5,
   "id": "18799a60",
   "metadata": {},
   "outputs": [
    {
     "name": "stdout",
     "output_type": "stream",
     "text": [
      "<class 'pandas.core.frame.DataFrame'>\n",
      "RangeIndex: 110527 entries, 0 to 110526\n",
      "Data columns (total 14 columns):\n",
      " #   Column           Non-Null Count   Dtype  \n",
      "---  ------           --------------   -----  \n",
      " 0   PatientId        110527 non-null  float64\n",
      " 1   AppointmentID    110527 non-null  int64  \n",
      " 2   Gender           110527 non-null  object \n",
      " 3   Scheduled_Day    110527 non-null  object \n",
      " 4   Appointment_Day  110527 non-null  object \n",
      " 5   Age              110527 non-null  int64  \n",
      " 6   Neighbourhood    110527 non-null  object \n",
      " 7   Scholarship      110527 non-null  int64  \n",
      " 8   Hypertension     110527 non-null  int64  \n",
      " 9   Diabetes         110527 non-null  int64  \n",
      " 10  Alcoholism       110527 non-null  int64  \n",
      " 11  Handicap         110527 non-null  int64  \n",
      " 12  SMS_received     110527 non-null  int64  \n",
      " 13  No_show          110527 non-null  object \n",
      "dtypes: float64(1), int64(8), object(5)\n",
      "memory usage: 11.8+ MB\n"
     ]
    }
   ],
   "source": [
    "# show information for dataset\n",
    "df.info()"
   ]
  },
  {
   "cell_type": "markdown",
   "id": "f6f5876f",
   "metadata": {},
   "source": [
    "<li> we can see that no null data no missing.</li>\n",
    "<li>we can look the data type of data.</li>\n",
    "<li>data type of Scheduled_Day and Appointment_Day should convert to date.</li>"
   ]
  },
  {
   "cell_type": "markdown",
   "id": "3a12262d",
   "metadata": {},
   "source": [
    "### General look of data\n",
    "#### I perfer to visualize , explor and discovry the data befor change it to understand data easly"
   ]
  },
  {
   "cell_type": "code",
   "execution_count": 6,
   "id": "d8bf383f",
   "metadata": {},
   "outputs": [
    {
     "data": {
      "image/png": "[encoded data removed]",
      "text/plain": [
       "<Figure size 720x720 with 2 Axes>"
      ]
     },
     "metadata": {},
     "output_type": "display_data"
    }
   ],
   "source": [
    "\n",
    "fig, (ax1,ax2) = plt.subplots(1,2,figsize=(10,10)) # to split plot \n",
    "# plot a pie chart\n",
    "sorted_counts = df.Gender.value_counts()  # to know count of Gender values\n",
    "ax1.pie(sorted_counts, labels = ['Female', 'Male'], startangle = 0,\n",
    "        counterclock = False, autopct='%1.2f%%', explode = (0.1, 0));\n",
    "plt.axis('square')\n",
    "plt.title('Gender And Show Status'); \n",
    "\n",
    "\n",
    "# plot a pie chart\n",
    "sorted_counts = df.Scholarship.value_counts() # to know count of Scholarship values\n",
    "ax2.pie(sorted_counts, labels = ['No Scholarship', 'Scholarship'], startangle = 200,\n",
    "        counterclock = False, autopct='%1.2f%%', explode = (0.1, 0));\n",
    "plt.axis('square')\n",
    "plt.title('Gender and Scholarship Show Status');"
   ]
  },
  {
   "cell_type": "markdown",
   "id": "32e48703",
   "metadata": {},
   "source": [
    "##### we can see that most patients of females greater than male. and little patients have a scholarship."
   ]
  },
  {
   "cell_type": "code",
   "execution_count": 7,
   "id": "07ac0847",
   "metadata": {},
   "outputs": [
    {
     "data": {
      "image/png": "[encoded data removed]",
      "text/plain": [
       "<Figure size 720x720 with 2 Axes>"
      ]
     },
     "metadata": {},
     "output_type": "display_data"
    }
   ],
   "source": [
    "# plot a pie chart\n",
    "fig, (ax1,ax2) = plt.subplots(1,2,figsize=(10,10))\n",
    "\n",
    "sorted_counts = df.Hypertension.value_counts() # to know Hypertension count of  values\n",
    "ax1.pie(sorted_counts, labels = ['No Have Hypertension', 'Have Hypertension'], startangle = 0,\n",
    "        counterclock = False, autopct='%1.2f%%', explode = (0.1, 0));\n",
    "ax1.axis('square')\n",
    "\n",
    "# plot a pie chart\n",
    "sorted_counts = df.Diabetes.value_counts() # to know Diabetes count of  values\n",
    "ax2.pie(sorted_counts, labels = ['No Have Diabetes', 'Have Diabetes'], startangle = 200,\n",
    "        counterclock = False, autopct='%1.2f%%', explode = (0.1, 0));\n",
    "ax2.axis('square')\n",
    "plt.title('Hipertension and Diabetes Show Status');\n"
   ]
  },
  {
   "cell_type": "markdown",
   "id": "d5f44812",
   "metadata": {},
   "source": [
    "##### we can see that most patients no have Hypertension and Diabetes."
   ]
  },
  {
   "cell_type": "code",
   "execution_count": 8,
   "id": "214c46e3",
   "metadata": {},
   "outputs": [
    {
     "data": {
      "image/png": "[encoded data removed]",
      "text/plain": [
       "<Figure size 432x288 with 1 Axes>"
      ]
     },
     "metadata": {},
     "output_type": "display_data"
    }
   ],
   "source": [
    "# plot a pie chart\n",
    "sorted_counts = df.Alcoholism.value_counts() # to know Hypertension count of  values\n",
    "plt.pie(sorted_counts, labels = ['No Alcoholism', 'Alcoholism'], startangle = 200,\n",
    "        counterclock = False, autopct='%1.2f%%', explode = (0.1, 0));\n",
    "plt.axis('square')\n",
    "plt.title('Alcoholism Show Status');"
   ]
  },
  {
   "cell_type": "markdown",
   "id": "4b8fd85f",
   "metadata": {},
   "source": [
    "##### we can see that most patients no have Alcoholism ."
   ]
  },
  {
   "cell_type": "code",
   "execution_count": 9,
   "id": "66fb9359",
   "metadata": {},
   "outputs": [
    {
     "data": {
      "image/png": "[encoded data removed]",
      "text/plain": [
       "<Figure size 720x720 with 2 Axes>"
      ]
     },
     "metadata": {},
     "output_type": "display_data"
    }
   ],
   "source": [
    "fig, (ax1,ax2) = plt.subplots(1,2,figsize=(10,10))\n",
    "# plot a pie chart\n",
    "sorted_counts = df.SMS_received.value_counts()\n",
    "ax1.pie(sorted_counts, labels = ['No SMS_received', 'SMS_received'], startangle = 0,\n",
    "        counterclock = False, autopct='%1.2f%%');\n",
    "plt.axis('square')\n",
    "# replace NO by 0 and YES by 1\n",
    "df['No_show'].replace({'No': 0, 'Yes': 1}, inplace = True) \n",
    "sorted_counts = df.No_show.value_counts()\n",
    "ax2.pie(sorted_counts, labels = ['show', 'No show'], startangle = 200,\n",
    "        counterclock = False, autopct='%1.2f%%', explode = (0.1, 0));\n",
    "plt.axis('square')\n",
    "plt.title('SMS_received and Show Status');"
   ]
  },
  {
   "cell_type": "markdown",
   "id": "ba059aec",
   "metadata": {},
   "source": [
    "##### we can see that most patients of females greater than male. and little patients have a scholarship."
   ]
  },
  {
   "cell_type": "code",
   "execution_count": 10,
   "id": "e82e8952",
   "metadata": {},
   "outputs": [
    {
     "data": {
      "text/plain": [
       "0    108286\n",
       "1      2042\n",
       "2       183\n",
       "3        13\n",
       "4         3\n",
       "Name: Handicap, dtype: int64"
      ]
     },
     "execution_count": 10,
     "metadata": {},
     "output_type": "execute_result"
    }
   ],
   "source": [
    "df.Handicap.value_counts()"
   ]
  },
  {
   "cell_type": "markdown",
   "id": "e55be8d1",
   "metadata": {},
   "source": [
    "<li>Handicap is 5 that is not correct we should fixed that.</li>"
   ]
  },
  {
   "cell_type": "code",
   "execution_count": 11,
   "id": "7619f792",
   "metadata": {},
   "outputs": [
    {
     "data": {
      "text/plain": [
       "PatientId           62299\n",
       "AppointmentID      110527\n",
       "Gender                  2\n",
       "Scheduled_Day      103549\n",
       "Appointment_Day        27\n",
       "Age                   104\n",
       "Neighbourhood          81\n",
       "Scholarship             2\n",
       "Hypertension            2\n",
       "Diabetes                2\n",
       "Alcoholism              2\n",
       "Handicap                5\n",
       "SMS_received            2\n",
       "No_show                 2\n",
       "dtype: int64"
      ]
     },
     "execution_count": 11,
     "metadata": {},
     "output_type": "execute_result"
    }
   ],
   "source": [
    "df.nunique()"
   ]
  },
  {
   "cell_type": "markdown",
   "id": "5fface7e",
   "metadata": {},
   "source": [
    "\n",
    "\n",
    "<ul>\n",
    "  <li>62,299 Patient ids so this means that some patients had more than one appointment, this could lead to a useful analysis which i am not going to cover in this project.</li>\n",
    "  <li>The long differance between ScheduledDay is 103549 only 27 unique appointment days.</li>\n",
    "   <li>Handicap is 5 that is not correct we should fixed that.</li>\n",
    "  <li>81 unique neighbourhoods.</li>\n",
    "</ul>  \n"
   ]
  },
  {
   "cell_type": "code",
   "execution_count": 12,
   "id": "988cf2e2",
   "metadata": {
    "scrolled": true
   },
   "outputs": [
    {
     "data": {
      "text/plain": [
       "38710"
      ]
     },
     "execution_count": 12,
     "metadata": {},
     "output_type": "execute_result"
    }
   ],
   "source": [
    "df.duplicated(['PatientId','No_show']).sum()"
   ]
  },
  {
   "cell_type": "markdown",
   "id": "fde34241",
   "metadata": {},
   "source": [
    "<h4>there are 38710 duplicate cases but it maybe had more than one appointment.</h4>"
   ]
  },
  {
   "cell_type": "code",
   "execution_count": 13,
   "id": "c99ecc19",
   "metadata": {},
   "outputs": [
    {
     "data": {
      "text/plain": [
       "7378"
      ]
     },
     "execution_count": 13,
     "metadata": {},
     "output_type": "execute_result"
    }
   ],
   "source": [
    "df.duplicated(['PatientId','Gender','Appointment_Day','No_show']).sum()"
   ]
  },
  {
   "cell_type": "markdown",
   "id": "9833dda0",
   "metadata": {},
   "source": [
    "\n",
    "<h4>There are 7378 duplicate cases with the same patient and same AppointmentDay  we will drop it.</h4>\n"
   ]
  },
  {
   "cell_type": "code",
   "execution_count": 14,
   "id": "2f08df2c",
   "metadata": {},
   "outputs": [
    {
     "data": {
      "text/plain": [
       "count    110527.000000\n",
       "mean         37.088874\n",
       "std          23.110205\n",
       "min          -1.000000\n",
       "25%          18.000000\n",
       "50%          37.000000\n",
       "75%          55.000000\n",
       "max         115.000000\n",
       "Name: Age, dtype: float64"
      ]
     },
     "execution_count": 14,
     "metadata": {},
     "output_type": "execute_result"
    }
   ],
   "source": [
    "df['Age'].describe()"
   ]
  },
  {
   "cell_type": "markdown",
   "id": "58f88cd4",
   "metadata": {},
   "source": [
    "\n",
    "<h4>The average age in this dataset is 37, and the heighest age is 115, while -1 is the minimum age which is an issue that will be fixed later.</h4>\n"
   ]
  },
  {
   "cell_type": "code",
   "execution_count": 15,
   "id": "87c6dcd4",
   "metadata": {},
   "outputs": [
    {
     "data": {
      "text/html": [
       "<div>\n",
       "<style scoped>\n",
       "    .dataframe tbody tr th:only-of-type {\n",
       "        vertical-align: middle;\n",
       "    }\n",
       "\n",
       "    .dataframe tbody tr th {\n",
       "        vertical-align: top;\n",
       "    }\n",
       "\n",
       "    .dataframe thead th {\n",
       "        text-align: right;\n",
       "    }\n",
       "</style>\n",
       "<table border=\"1\" class=\"dataframe\">\n",
       "  <thead>\n",
       "    <tr style=\"text-align: right;\">\n",
       "      <th></th>\n",
       "      <th>PatientId</th>\n",
       "      <th>AppointmentID</th>\n",
       "      <th>Gender</th>\n",
       "      <th>Scheduled_Day</th>\n",
       "      <th>Appointment_Day</th>\n",
       "      <th>Age</th>\n",
       "      <th>Neighbourhood</th>\n",
       "      <th>Scholarship</th>\n",
       "      <th>Hypertension</th>\n",
       "      <th>Diabetes</th>\n",
       "      <th>Alcoholism</th>\n",
       "      <th>Handicap</th>\n",
       "      <th>SMS_received</th>\n",
       "      <th>No_show</th>\n",
       "    </tr>\n",
       "  </thead>\n",
       "  <tbody>\n",
       "    <tr>\n",
       "      <th>99832</th>\n",
       "      <td>4.659432e+14</td>\n",
       "      <td>5775010</td>\n",
       "      <td>F</td>\n",
       "      <td>2016-06-06T08:58:13Z</td>\n",
       "      <td>2016-06-06T00:00:00Z</td>\n",
       "      <td>-1</td>\n",
       "      <td>ROMÃO</td>\n",
       "      <td>0</td>\n",
       "      <td>0</td>\n",
       "      <td>0</td>\n",
       "      <td>0</td>\n",
       "      <td>0</td>\n",
       "      <td>0</td>\n",
       "      <td>0</td>\n",
       "    </tr>\n",
       "  </tbody>\n",
       "</table>\n",
       "</div>"
      ],
      "text/plain": [
       "          PatientId  AppointmentID Gender         Scheduled_Day  \\\n",
       "99832  4.659432e+14        5775010      F  2016-06-06T08:58:13Z   \n",
       "\n",
       "            Appointment_Day  Age Neighbourhood  Scholarship  Hypertension  \\\n",
       "99832  2016-06-06T00:00:00Z   -1         ROMÃO            0             0   \n",
       "\n",
       "       Diabetes  Alcoholism  Handicap  SMS_received  No_show  \n",
       "99832         0           0         0             0        0  "
      ]
     },
     "execution_count": 15,
     "metadata": {},
     "output_type": "execute_result"
    }
   ],
   "source": [
    "ind = df.index[df['Age']<0]\n",
    "df.iloc[ind]"
   ]
  },
  {
   "cell_type": "markdown",
   "id": "133a34e2",
   "metadata": {},
   "source": [
    "\n",
    "<ul>\n",
    "  <h4>There are 1 error sample that have -1 years we will drop it.</h4>\n",
    "</ul>  \n"
   ]
  },
  {
   "cell_type": "code",
   "execution_count": 16,
   "id": "683ff0c0",
   "metadata": {},
   "outputs": [
    {
     "data": {
      "text/html": [
       "<div>\n",
       "<style scoped>\n",
       "    .dataframe tbody tr th:only-of-type {\n",
       "        vertical-align: middle;\n",
       "    }\n",
       "\n",
       "    .dataframe tbody tr th {\n",
       "        vertical-align: top;\n",
       "    }\n",
       "\n",
       "    .dataframe thead th {\n",
       "        text-align: right;\n",
       "    }\n",
       "</style>\n",
       "<table border=\"1\" class=\"dataframe\">\n",
       "  <thead>\n",
       "    <tr style=\"text-align: right;\">\n",
       "      <th></th>\n",
       "      <th>PatientId</th>\n",
       "      <th>AppointmentID</th>\n",
       "      <th>Gender</th>\n",
       "      <th>Scheduled_Day</th>\n",
       "      <th>Appointment_Day</th>\n",
       "      <th>Age</th>\n",
       "      <th>Neighbourhood</th>\n",
       "      <th>Scholarship</th>\n",
       "      <th>Hypertension</th>\n",
       "      <th>Diabetes</th>\n",
       "      <th>Alcoholism</th>\n",
       "      <th>Handicap</th>\n",
       "      <th>SMS_received</th>\n",
       "      <th>No_show</th>\n",
       "    </tr>\n",
       "  </thead>\n",
       "  <tbody>\n",
       "    <tr>\n",
       "      <th>63912</th>\n",
       "      <td>3.196321e+13</td>\n",
       "      <td>5700278</td>\n",
       "      <td>F</td>\n",
       "      <td>2016-05-16T09:17:44Z</td>\n",
       "      <td>2016-05-19T00:00:00Z</td>\n",
       "      <td>115</td>\n",
       "      <td>ANDORINHAS</td>\n",
       "      <td>0</td>\n",
       "      <td>0</td>\n",
       "      <td>0</td>\n",
       "      <td>0</td>\n",
       "      <td>1</td>\n",
       "      <td>0</td>\n",
       "      <td>1</td>\n",
       "    </tr>\n",
       "    <tr>\n",
       "      <th>63915</th>\n",
       "      <td>3.196321e+13</td>\n",
       "      <td>5700279</td>\n",
       "      <td>F</td>\n",
       "      <td>2016-05-16T09:17:44Z</td>\n",
       "      <td>2016-05-19T00:00:00Z</td>\n",
       "      <td>115</td>\n",
       "      <td>ANDORINHAS</td>\n",
       "      <td>0</td>\n",
       "      <td>0</td>\n",
       "      <td>0</td>\n",
       "      <td>0</td>\n",
       "      <td>1</td>\n",
       "      <td>0</td>\n",
       "      <td>1</td>\n",
       "    </tr>\n",
       "    <tr>\n",
       "      <th>68127</th>\n",
       "      <td>3.196321e+13</td>\n",
       "      <td>5562812</td>\n",
       "      <td>F</td>\n",
       "      <td>2016-04-08T14:29:17Z</td>\n",
       "      <td>2016-05-16T00:00:00Z</td>\n",
       "      <td>115</td>\n",
       "      <td>ANDORINHAS</td>\n",
       "      <td>0</td>\n",
       "      <td>0</td>\n",
       "      <td>0</td>\n",
       "      <td>0</td>\n",
       "      <td>1</td>\n",
       "      <td>0</td>\n",
       "      <td>1</td>\n",
       "    </tr>\n",
       "    <tr>\n",
       "      <th>76284</th>\n",
       "      <td>3.196321e+13</td>\n",
       "      <td>5744037</td>\n",
       "      <td>F</td>\n",
       "      <td>2016-05-30T09:44:51Z</td>\n",
       "      <td>2016-05-30T00:00:00Z</td>\n",
       "      <td>115</td>\n",
       "      <td>ANDORINHAS</td>\n",
       "      <td>0</td>\n",
       "      <td>0</td>\n",
       "      <td>0</td>\n",
       "      <td>0</td>\n",
       "      <td>1</td>\n",
       "      <td>0</td>\n",
       "      <td>0</td>\n",
       "    </tr>\n",
       "    <tr>\n",
       "      <th>97666</th>\n",
       "      <td>7.482346e+14</td>\n",
       "      <td>5717451</td>\n",
       "      <td>F</td>\n",
       "      <td>2016-05-19T07:57:56Z</td>\n",
       "      <td>2016-06-03T00:00:00Z</td>\n",
       "      <td>115</td>\n",
       "      <td>SÃO JOSÉ</td>\n",
       "      <td>0</td>\n",
       "      <td>1</td>\n",
       "      <td>0</td>\n",
       "      <td>0</td>\n",
       "      <td>0</td>\n",
       "      <td>1</td>\n",
       "      <td>0</td>\n",
       "    </tr>\n",
       "  </tbody>\n",
       "</table>\n",
       "</div>"
      ],
      "text/plain": [
       "          PatientId  AppointmentID Gender         Scheduled_Day  \\\n",
       "63912  3.196321e+13        5700278      F  2016-05-16T09:17:44Z   \n",
       "63915  3.196321e+13        5700279      F  2016-05-16T09:17:44Z   \n",
       "68127  3.196321e+13        5562812      F  2016-04-08T14:29:17Z   \n",
       "76284  3.196321e+13        5744037      F  2016-05-30T09:44:51Z   \n",
       "97666  7.482346e+14        5717451      F  2016-05-19T07:57:56Z   \n",
       "\n",
       "            Appointment_Day  Age Neighbourhood  Scholarship  Hypertension  \\\n",
       "63912  2016-05-19T00:00:00Z  115    ANDORINHAS            0             0   \n",
       "63915  2016-05-19T00:00:00Z  115    ANDORINHAS            0             0   \n",
       "68127  2016-05-16T00:00:00Z  115    ANDORINHAS            0             0   \n",
       "76284  2016-05-30T00:00:00Z  115    ANDORINHAS            0             0   \n",
       "97666  2016-06-03T00:00:00Z  115      SÃO JOSÉ            0             1   \n",
       "\n",
       "       Diabetes  Alcoholism  Handicap  SMS_received  No_show  \n",
       "63912         0           0         1             0        1  \n",
       "63915         0           0         1             0        1  \n",
       "68127         0           0         1             0        1  \n",
       "76284         0           0         1             0        0  \n",
       "97666         0           0         0             1        0  "
      ]
     },
     "execution_count": 16,
     "metadata": {},
     "output_type": "execute_result"
    }
   ],
   "source": [
    "# get index of age == 115\n",
    "ind = df.index[df['Age']==115] \n",
    "df.iloc[ind]"
   ]
  },
  {
   "cell_type": "markdown",
   "id": "72ab0713",
   "metadata": {},
   "source": [
    "\n",
    "<ul>\n",
    "  <h4>There are 5 sample that have 115 years  and 4 sample for same PatientId.</h4>\n",
    "</ul>  "
   ]
  },
  {
   "cell_type": "code",
   "execution_count": 17,
   "id": "5735a54d",
   "metadata": {},
   "outputs": [
    {
     "data": {
      "text/plain": [
       "('2016-05-19T00:00:00Z',\n",
       " '2016-05-19T00:00:00Z',\n",
       " '2016-05-16T00:00:00Z',\n",
       " '2016-05-30T00:00:00Z')"
      ]
     },
     "execution_count": 17,
     "metadata": {},
     "output_type": "execute_result"
    }
   ],
   "source": [
    "df['Appointment_Day'][63912] , df['Appointment_Day'][63915], df['Appointment_Day'][68127],df['Appointment_Day'][76284]"
   ]
  },
  {
   "cell_type": "markdown",
   "id": "b136ba38",
   "metadata": {},
   "source": [
    "\n",
    "<ul>\n",
    "  <li>There are 2 sample for one Patient have same Appointment_Day.</li>\n",
    "  <li>we can say that data need more chage to analysis it.</li>\n",
    "</ul>  "
   ]
  },
  {
   "cell_type": "markdown",
   "id": "930c6550",
   "metadata": {},
   "source": [
    "#### Conclusion :\n",
    "we can say that this data set need to more change to be useful.\n",
    "<li>Rename some columns.</li>\n",
    "<li>Change some data types.</li>\n",
    "<li>Drop some samples dublicated.</li>\n",
    "<li>Drop some samples data wrong like age = -1 .</li>\n",
    "<li>Update data like Handicap .</li>"
   ]
  },
  {
   "cell_type": "markdown",
   "id": "c22f98c6",
   "metadata": {},
   "source": [
    "### Data Cleaning\n",
    "> **Tip**: Make sure that you keep your reader informed on the steps that you are taking in your investigation. Follow every code cell, or every set of related code cells, with a markdown cell to describe to the reader what was found in the preceding cell(s). Try to make it so that the reader can then understand what they will be seeing in the following cell(s)."
   ]
  },
  {
   "cell_type": "markdown",
   "id": "bcdf9ff2",
   "metadata": {},
   "source": [
    "<h3> Fixed incorrect data</h3>"
   ]
  },
  {
   "cell_type": "code",
   "execution_count": 18,
   "id": "d3de03ce",
   "metadata": {},
   "outputs": [
    {
     "data": {
      "text/html": [
       "<div>\n",
       "<style scoped>\n",
       "    .dataframe tbody tr th:only-of-type {\n",
       "        vertical-align: middle;\n",
       "    }\n",
       "\n",
       "    .dataframe tbody tr th {\n",
       "        vertical-align: top;\n",
       "    }\n",
       "\n",
       "    .dataframe thead th {\n",
       "        text-align: right;\n",
       "    }\n",
       "</style>\n",
       "<table border=\"1\" class=\"dataframe\">\n",
       "  <thead>\n",
       "    <tr style=\"text-align: right;\">\n",
       "      <th></th>\n",
       "      <th>PatientId</th>\n",
       "      <th>AppointmentID</th>\n",
       "      <th>Gender</th>\n",
       "      <th>Scheduled_Day</th>\n",
       "      <th>Appointment_Day</th>\n",
       "      <th>Age</th>\n",
       "      <th>Neighbourhood</th>\n",
       "      <th>Scholarship</th>\n",
       "      <th>Hypertension</th>\n",
       "      <th>Diabetes</th>\n",
       "      <th>Alcoholism</th>\n",
       "      <th>Handicap</th>\n",
       "      <th>SMS_received</th>\n",
       "      <th>No_show</th>\n",
       "    </tr>\n",
       "  </thead>\n",
       "  <tbody>\n",
       "  </tbody>\n",
       "</table>\n",
       "</div>"
      ],
      "text/plain": [
       "Empty DataFrame\n",
       "Columns: [PatientId, AppointmentID, Gender, Scheduled_Day, Appointment_Day, Age, Neighbourhood, Scholarship, Hypertension, Diabetes, Alcoholism, Handicap, SMS_received, No_show]\n",
       "Index: []"
      ]
     },
     "execution_count": 18,
     "metadata": {},
     "output_type": "execute_result"
    }
   ],
   "source": [
    "# drop the row with a -1 age\n",
    "df.drop(df.query('Age < 0').index, inplace=True)\n",
    "df.query('Age < 0')"
   ]
  },
  {
   "cell_type": "markdown",
   "id": "b9786b69",
   "metadata": {},
   "source": [
    "<h9>Row was dropped successfully.</h9>"
   ]
  },
  {
   "cell_type": "markdown",
   "id": "5815ceee",
   "metadata": {},
   "source": [
    "<h3> handcap column update date</h3>"
   ]
  },
  {
   "cell_type": "code",
   "execution_count": 19,
   "id": "2454b74b",
   "metadata": {},
   "outputs": [
    {
     "data": {
      "text/plain": [
       "0    108285\n",
       "1      2241\n",
       "Name: Handicap, dtype: int64"
      ]
     },
     "execution_count": 19,
     "metadata": {},
     "output_type": "execute_result"
    }
   ],
   "source": [
    "# if the value is greater than 1 change it to 1, otherwise keep it\n",
    "df['Handicap'] = np.where(df['Handicap'] > 1, 1, df['Handicap'])\n",
    "df.Handicap.value_counts()"
   ]
  },
  {
   "cell_type": "markdown",
   "id": "7e4b985b",
   "metadata": {},
   "source": [
    "<h3>update date type for Scheduled_Day , Appointment_Day</h3>"
   ]
  },
  {
   "cell_type": "code",
   "execution_count": 20,
   "id": "f083d8da",
   "metadata": {},
   "outputs": [
    {
     "name": "stdout",
     "output_type": "stream",
     "text": [
      "PatientId                      float64\n",
      "AppointmentID                    int64\n",
      "Gender                          object\n",
      "Scheduled_Day      datetime64[ns, UTC]\n",
      "Appointment_Day    datetime64[ns, UTC]\n",
      "Age                              int64\n",
      "Neighbourhood                   object\n",
      "Scholarship                      int64\n",
      "Hypertension                     int64\n",
      "Diabetes                         int64\n",
      "Alcoholism                       int64\n",
      "Handicap                         int64\n",
      "SMS_received                     int64\n",
      "No_show                          int64\n",
      "dtype: object\n"
     ]
    },
    {
     "data": {
      "text/html": [
       "<div>\n",
       "<style scoped>\n",
       "    .dataframe tbody tr th:only-of-type {\n",
       "        vertical-align: middle;\n",
       "    }\n",
       "\n",
       "    .dataframe tbody tr th {\n",
       "        vertical-align: top;\n",
       "    }\n",
       "\n",
       "    .dataframe thead th {\n",
       "        text-align: right;\n",
       "    }\n",
       "</style>\n",
       "<table border=\"1\" class=\"dataframe\">\n",
       "  <thead>\n",
       "    <tr style=\"text-align: right;\">\n",
       "      <th></th>\n",
       "      <th>PatientId</th>\n",
       "      <th>AppointmentID</th>\n",
       "      <th>Gender</th>\n",
       "      <th>Scheduled_Day</th>\n",
       "      <th>Appointment_Day</th>\n",
       "      <th>Age</th>\n",
       "      <th>Neighbourhood</th>\n",
       "      <th>Scholarship</th>\n",
       "      <th>Hypertension</th>\n",
       "      <th>Diabetes</th>\n",
       "      <th>Alcoholism</th>\n",
       "      <th>Handicap</th>\n",
       "      <th>SMS_received</th>\n",
       "      <th>No_show</th>\n",
       "    </tr>\n",
       "  </thead>\n",
       "  <tbody>\n",
       "    <tr>\n",
       "      <th>0</th>\n",
       "      <td>2.987250e+13</td>\n",
       "      <td>5642903</td>\n",
       "      <td>F</td>\n",
       "      <td>2016-04-29 18:38:08+00:00</td>\n",
       "      <td>2016-04-29 00:00:00+00:00</td>\n",
       "      <td>62</td>\n",
       "      <td>JARDIM DA PENHA</td>\n",
       "      <td>0</td>\n",
       "      <td>1</td>\n",
       "      <td>0</td>\n",
       "      <td>0</td>\n",
       "      <td>0</td>\n",
       "      <td>0</td>\n",
       "      <td>0</td>\n",
       "    </tr>\n",
       "    <tr>\n",
       "      <th>1</th>\n",
       "      <td>5.589978e+14</td>\n",
       "      <td>5642503</td>\n",
       "      <td>M</td>\n",
       "      <td>2016-04-29 16:08:27+00:00</td>\n",
       "      <td>2016-04-29 00:00:00+00:00</td>\n",
       "      <td>56</td>\n",
       "      <td>JARDIM DA PENHA</td>\n",
       "      <td>0</td>\n",
       "      <td>0</td>\n",
       "      <td>0</td>\n",
       "      <td>0</td>\n",
       "      <td>0</td>\n",
       "      <td>0</td>\n",
       "      <td>0</td>\n",
       "    </tr>\n",
       "    <tr>\n",
       "      <th>2</th>\n",
       "      <td>4.262962e+12</td>\n",
       "      <td>5642549</td>\n",
       "      <td>F</td>\n",
       "      <td>2016-04-29 16:19:04+00:00</td>\n",
       "      <td>2016-04-29 00:00:00+00:00</td>\n",
       "      <td>62</td>\n",
       "      <td>MATA DA PRAIA</td>\n",
       "      <td>0</td>\n",
       "      <td>0</td>\n",
       "      <td>0</td>\n",
       "      <td>0</td>\n",
       "      <td>0</td>\n",
       "      <td>0</td>\n",
       "      <td>0</td>\n",
       "    </tr>\n",
       "    <tr>\n",
       "      <th>3</th>\n",
       "      <td>8.679512e+11</td>\n",
       "      <td>5642828</td>\n",
       "      <td>F</td>\n",
       "      <td>2016-04-29 17:29:31+00:00</td>\n",
       "      <td>2016-04-29 00:00:00+00:00</td>\n",
       "      <td>8</td>\n",
       "      <td>PONTAL DE CAMBURI</td>\n",
       "      <td>0</td>\n",
       "      <td>0</td>\n",
       "      <td>0</td>\n",
       "      <td>0</td>\n",
       "      <td>0</td>\n",
       "      <td>0</td>\n",
       "      <td>0</td>\n",
       "    </tr>\n",
       "    <tr>\n",
       "      <th>4</th>\n",
       "      <td>8.841186e+12</td>\n",
       "      <td>5642494</td>\n",
       "      <td>F</td>\n",
       "      <td>2016-04-29 16:07:23+00:00</td>\n",
       "      <td>2016-04-29 00:00:00+00:00</td>\n",
       "      <td>56</td>\n",
       "      <td>JARDIM DA PENHA</td>\n",
       "      <td>0</td>\n",
       "      <td>1</td>\n",
       "      <td>1</td>\n",
       "      <td>0</td>\n",
       "      <td>0</td>\n",
       "      <td>0</td>\n",
       "      <td>0</td>\n",
       "    </tr>\n",
       "  </tbody>\n",
       "</table>\n",
       "</div>"
      ],
      "text/plain": [
       "      PatientId  AppointmentID Gender             Scheduled_Day  \\\n",
       "0  2.987250e+13        5642903      F 2016-04-29 18:38:08+00:00   \n",
       "1  5.589978e+14        5642503      M 2016-04-29 16:08:27+00:00   \n",
       "2  4.262962e+12        5642549      F 2016-04-29 16:19:04+00:00   \n",
       "3  8.679512e+11        5642828      F 2016-04-29 17:29:31+00:00   \n",
       "4  8.841186e+12        5642494      F 2016-04-29 16:07:23+00:00   \n",
       "\n",
       "            Appointment_Day  Age      Neighbourhood  Scholarship  \\\n",
       "0 2016-04-29 00:00:00+00:00   62    JARDIM DA PENHA            0   \n",
       "1 2016-04-29 00:00:00+00:00   56    JARDIM DA PENHA            0   \n",
       "2 2016-04-29 00:00:00+00:00   62      MATA DA PRAIA            0   \n",
       "3 2016-04-29 00:00:00+00:00    8  PONTAL DE CAMBURI            0   \n",
       "4 2016-04-29 00:00:00+00:00   56    JARDIM DA PENHA            0   \n",
       "\n",
       "   Hypertension  Diabetes  Alcoholism  Handicap  SMS_received  No_show  \n",
       "0             1         0           0         0             0        0  \n",
       "1             0         0           0         0             0        0  \n",
       "2             0         0           0         0             0        0  \n",
       "3             0         0           0         0             0        0  \n",
       "4             1         1           0         0             0        0  "
      ]
     },
     "execution_count": 20,
     "metadata": {},
     "output_type": "execute_result"
    }
   ],
   "source": [
    "df['Scheduled_Day'] = pd.to_datetime(df['Scheduled_Day']) # convert Dtype to datatime \n",
    "df['Appointment_Day'] = pd.to_datetime(df['Appointment_Day']) # convert Dtype to datatime \n",
    "# check agian\n",
    "print(df.dtypes)\n",
    "df.head()"
   ]
  },
  {
   "cell_type": "markdown",
   "id": "524a7612",
   "metadata": {},
   "source": [
    "<h4>Data type changed successfully<h4>"
   ]
  },
  {
   "cell_type": "code",
   "execution_count": 21,
   "id": "e4f99544",
   "metadata": {
    "scrolled": true
   },
   "outputs": [
    {
     "data": {
      "text/plain": [
       "Timedelta('40 days 00:00:00')"
      ]
     },
     "execution_count": 21,
     "metadata": {},
     "output_type": "execute_result"
    }
   ],
   "source": [
    "# check the appointments days\n",
    "df['Appointment_Day'].max()- df['Appointment_Day'].min()"
   ]
  },
  {
   "cell_type": "markdown",
   "id": "4e3ad36e",
   "metadata": {},
   "source": [
    "<h4>there are 110,527 appointments were in 40 days only this data need to check.</h4>"
   ]
  },
  {
   "cell_type": "code",
   "execution_count": 22,
   "id": "1767c172",
   "metadata": {},
   "outputs": [
    {
     "data": {
      "text/plain": [
       "(103148, 14)"
      ]
     },
     "execution_count": 22,
     "metadata": {},
     "output_type": "execute_result"
    }
   ],
   "source": [
    "# There are 7378 duplicate cases with the same patient and same AppointmentDay  we will drop it.\n",
    "df.drop_duplicates(['PatientId','Gender','Appointment_Day','No_show'],inplace = True)\n",
    "# ensure data duplicated is droped\n",
    "df.shape"
   ]
  },
  {
   "cell_type": "markdown",
   "id": "7688a315",
   "metadata": {},
   "source": [
    "<h4>There are 7378 duplicate droped successfully.</h4>"
   ]
  },
  {
   "cell_type": "code",
   "execution_count": 23,
   "id": "d0e02709",
   "metadata": {},
   "outputs": [
    {
     "data": {
      "text/html": [
       "<div>\n",
       "<style scoped>\n",
       "    .dataframe tbody tr th:only-of-type {\n",
       "        vertical-align: middle;\n",
       "    }\n",
       "\n",
       "    .dataframe tbody tr th {\n",
       "        vertical-align: top;\n",
       "    }\n",
       "\n",
       "    .dataframe thead th {\n",
       "        text-align: right;\n",
       "    }\n",
       "</style>\n",
       "<table border=\"1\" class=\"dataframe\">\n",
       "  <thead>\n",
       "    <tr style=\"text-align: right;\">\n",
       "      <th></th>\n",
       "      <th>Gender</th>\n",
       "      <th>Scheduled_Day</th>\n",
       "      <th>Appointment_Day</th>\n",
       "      <th>Age</th>\n",
       "      <th>Neighbourhood</th>\n",
       "      <th>Scholarship</th>\n",
       "      <th>Hypertension</th>\n",
       "      <th>Diabetes</th>\n",
       "      <th>Alcoholism</th>\n",
       "      <th>Handicap</th>\n",
       "      <th>SMS_received</th>\n",
       "      <th>No_show</th>\n",
       "    </tr>\n",
       "  </thead>\n",
       "  <tbody>\n",
       "    <tr>\n",
       "      <th>0</th>\n",
       "      <td>F</td>\n",
       "      <td>2016-04-29 18:38:08+00:00</td>\n",
       "      <td>2016-04-29 00:00:00+00:00</td>\n",
       "      <td>62</td>\n",
       "      <td>JARDIM DA PENHA</td>\n",
       "      <td>0</td>\n",
       "      <td>1</td>\n",
       "      <td>0</td>\n",
       "      <td>0</td>\n",
       "      <td>0</td>\n",
       "      <td>0</td>\n",
       "      <td>0</td>\n",
       "    </tr>\n",
       "    <tr>\n",
       "      <th>1</th>\n",
       "      <td>M</td>\n",
       "      <td>2016-04-29 16:08:27+00:00</td>\n",
       "      <td>2016-04-29 00:00:00+00:00</td>\n",
       "      <td>56</td>\n",
       "      <td>JARDIM DA PENHA</td>\n",
       "      <td>0</td>\n",
       "      <td>0</td>\n",
       "      <td>0</td>\n",
       "      <td>0</td>\n",
       "      <td>0</td>\n",
       "      <td>0</td>\n",
       "      <td>0</td>\n",
       "    </tr>\n",
       "    <tr>\n",
       "      <th>2</th>\n",
       "      <td>F</td>\n",
       "      <td>2016-04-29 16:19:04+00:00</td>\n",
       "      <td>2016-04-29 00:00:00+00:00</td>\n",
       "      <td>62</td>\n",
       "      <td>MATA DA PRAIA</td>\n",
       "      <td>0</td>\n",
       "      <td>0</td>\n",
       "      <td>0</td>\n",
       "      <td>0</td>\n",
       "      <td>0</td>\n",
       "      <td>0</td>\n",
       "      <td>0</td>\n",
       "    </tr>\n",
       "    <tr>\n",
       "      <th>3</th>\n",
       "      <td>F</td>\n",
       "      <td>2016-04-29 17:29:31+00:00</td>\n",
       "      <td>2016-04-29 00:00:00+00:00</td>\n",
       "      <td>8</td>\n",
       "      <td>PONTAL DE CAMBURI</td>\n",
       "      <td>0</td>\n",
       "      <td>0</td>\n",
       "      <td>0</td>\n",
       "      <td>0</td>\n",
       "      <td>0</td>\n",
       "      <td>0</td>\n",
       "      <td>0</td>\n",
       "    </tr>\n",
       "    <tr>\n",
       "      <th>4</th>\n",
       "      <td>F</td>\n",
       "      <td>2016-04-29 16:07:23+00:00</td>\n",
       "      <td>2016-04-29 00:00:00+00:00</td>\n",
       "      <td>56</td>\n",
       "      <td>JARDIM DA PENHA</td>\n",
       "      <td>0</td>\n",
       "      <td>1</td>\n",
       "      <td>1</td>\n",
       "      <td>0</td>\n",
       "      <td>0</td>\n",
       "      <td>0</td>\n",
       "      <td>0</td>\n",
       "    </tr>\n",
       "  </tbody>\n",
       "</table>\n",
       "</div>"
      ],
      "text/plain": [
       "  Gender             Scheduled_Day           Appointment_Day  Age  \\\n",
       "0      F 2016-04-29 18:38:08+00:00 2016-04-29 00:00:00+00:00   62   \n",
       "1      M 2016-04-29 16:08:27+00:00 2016-04-29 00:00:00+00:00   56   \n",
       "2      F 2016-04-29 16:19:04+00:00 2016-04-29 00:00:00+00:00   62   \n",
       "3      F 2016-04-29 17:29:31+00:00 2016-04-29 00:00:00+00:00    8   \n",
       "4      F 2016-04-29 16:07:23+00:00 2016-04-29 00:00:00+00:00   56   \n",
       "\n",
       "       Neighbourhood  Scholarship  Hypertension  Diabetes  Alcoholism  \\\n",
       "0    JARDIM DA PENHA            0             1         0           0   \n",
       "1    JARDIM DA PENHA            0             0         0           0   \n",
       "2      MATA DA PRAIA            0             0         0           0   \n",
       "3  PONTAL DE CAMBURI            0             0         0           0   \n",
       "4    JARDIM DA PENHA            0             1         1           0   \n",
       "\n",
       "   Handicap  SMS_received  No_show  \n",
       "0         0             0        0  \n",
       "1         0             0        0  \n",
       "2         0             0        0  \n",
       "3         0             0        0  \n",
       "4         0             0        0  "
      ]
     },
     "execution_count": 23,
     "metadata": {},
     "output_type": "execute_result"
    }
   ],
   "source": [
    "# Drop columns that we didn't need in analysis\n",
    "df.drop(columns=['AppointmentID','PatientId'],axis = 1 , inplace = True)\n",
    "df.head()"
   ]
  },
  {
   "cell_type": "markdown",
   "id": "8810c425",
   "metadata": {},
   "source": [
    "<h4>columns droped successfully.</h4>"
   ]
  },
  {
   "cell_type": "markdown",
   "id": "b5cb89f1",
   "metadata": {},
   "source": [
    "<a id='eda'></a>\n",
    "## Exploratory Data Analysis\n",
    "\n",
    "> **Tip**: Now that you've trimmed and cleaned your data, you're ready to move on to exploration. **Compute statistics** and **create visualizations** with the goal of addressing the research questions that you posed in the Introduction section. You should compute the relevant statistics throughout the analysis when an inference is made about the data. Note that at least two or more kinds of plots should be created as part of the exploration, and you must  compare and show trends in the varied visualizations. \n",
    "\n",
    "\n",
    "\n",
    "> **Tip**: - Investigate the stated question(s) from multiple angles. It is recommended that you be systematic with your approach. Look at one variable at a time, and then follow it up by looking at relationships between variables. You should explore at least three variables in relation to the primary question. This can be an exploratory relationship between three variables of interest, or looking at how two independent variables relate to a single dependent variable of interest. Lastly, you  should perform both single-variable (1d) and multiple-variable (2d) explorations.\n",
    "\n",
    "\n"
   ]
  },
  {
   "cell_type": "markdown",
   "id": "1e621b27",
   "metadata": {},
   "source": [
    "<h4>Use histogram plot to general look data.</h4>"
   ]
  },
  {
   "cell_type": "code",
   "execution_count": 24,
   "id": "3a777075",
   "metadata": {},
   "outputs": [
    {
     "data": {
      "image/png": "[encoded data removed]",
      "text/plain": [
       "<Figure size 1296x1080 with 12 Axes>"
      ]
     },
     "metadata": {
      "needs_background": "light"
     },
     "output_type": "display_data"
    }
   ],
   "source": [
    "df.hist(figsize=(18,15));"
   ]
  },
  {
   "cell_type": "markdown",
   "id": "dc869605",
   "metadata": {},
   "source": [
    "### Research Question 1 ( Can the Gender be considered as a factor to predict if a patient will show up for their scheduled appointment?!)"
   ]
  },
  {
   "cell_type": "code",
   "execution_count": 25,
   "id": "7d80bc7f",
   "metadata": {},
   "outputs": [
    {
     "data": {
      "image/png": "[encoded data removed]",
      "text/plain": [
       "<Figure size 432x288 with 1 Axes>"
      ]
     },
     "metadata": {
      "needs_background": "light"
     },
     "output_type": "display_data"
    }
   ],
   "source": [
    "# percentages of no show patients based on gender\n",
    "no_show_perc_gender = df.groupby(['Gender']).mean() *100\n",
    "# plot a bar chart\n",
    "no_show_perc_gender['No_show'].plot.bar();\n",
    "plt.title('The Percentages of No Show Patients Based on Gender')\n",
    "plt.xticks([0, 1], ['Female', 'Male'])\n",
    "plt.ylabel('No Show Percentage');"
   ]
  },
  {
   "cell_type": "markdown",
   "id": "363fe722",
   "metadata": {},
   "source": [
    "<h6>Based on the chart, the percentages of no show patients based on gender were very closed.\n",
    "So,the gender can't be considered as a factor to predict if a patient will show up for their scheduled appointment.</h6>"
   ]
  },
  {
   "cell_type": "markdown",
   "id": "eda0b102",
   "metadata": {},
   "source": [
    "### Research Question 2 ( Can the Gender and Alcoholism be considered as a factor to predict if a patient will show up for their scheduled appointment?!)"
   ]
  },
  {
   "cell_type": "code",
   "execution_count": 26,
   "id": "24bf0167",
   "metadata": {},
   "outputs": [
    {
     "data": {
      "image/png": "[encoded data removed]",
      "text/plain": [
       "<Figure size 432x288 with 1 Axes>"
      ]
     },
     "metadata": {
      "needs_background": "light"
     },
     "output_type": "display_data"
    }
   ],
   "source": [
    "# percentages of no show patients based on gender and Alcoholism\n",
    "no_show_perc_gender_Alcoholism = df.groupby(['Gender','Alcoholism']).mean() * 100\n",
    "# plot a bar chart\n",
    "no_show_perc_gender_Alcoholism['No_show'].plot.bar();\n",
    "plt.title('The Percentages of No Show Patients Based on Gender And Alcoholism')\n",
    "plt.ylabel('No Show Percentage');"
   ]
  },
  {
   "cell_type": "markdown",
   "id": "7f16dccf",
   "metadata": {},
   "source": [
    "<h6>Based on the chart Famale that isn't Alcoholism missed their appointments more than the other groups.So, we can say that the patient's Gender and Alcoholism could help us to predict if a patient will show up for their scheduled appointment.</h6>"
   ]
  },
  {
   "cell_type": "markdown",
   "id": "120a2c20",
   "metadata": {},
   "source": [
    "### Research Question 3 ( Can the Gender and Scholarship be considered as a factor to predict if a patient will show up for their scheduled appointment?!)"
   ]
  },
  {
   "cell_type": "code",
   "execution_count": 27,
   "id": "8c432540",
   "metadata": {},
   "outputs": [
    {
     "data": {
      "image/png": "[encoded data removed]",
      "text/plain": [
       "<Figure size 432x288 with 1 Axes>"
      ]
     },
     "metadata": {
      "needs_background": "light"
     },
     "output_type": "display_data"
    }
   ],
   "source": [
    "# percentages of no show patients based on gender and Scholarship\n",
    "no_show_perc_gender_Scholarship = df.groupby(['Gender','Scholarship']).mean() * 100\n",
    "# plot a bar chart\n",
    "no_show_perc_gender_Scholarship['No_show'].plot.bar();\n",
    "plt.title('The Percentages of No Show Patients Based on Gender And Scholarship')\n",
    "plt.ylabel('No Show Percentage');"
   ]
  },
  {
   "cell_type": "markdown",
   "id": "92d32245",
   "metadata": {},
   "source": [
    "<h6>Based on the chart Famale and male  that have Scholarship missed their appointments more than the other groups.So, we can say that the patient's Gender and Scholarship could help us to predict if a patient will show up for their scheduled appointment.</h6>"
   ]
  },
  {
   "cell_type": "markdown",
   "id": "1c961a65",
   "metadata": {},
   "source": [
    "### Research Question 4 ( Can the Gender and Handicap be considered as a factor to predict if a patient will show up for their scheduled appointment?!)"
   ]
  },
  {
   "cell_type": "code",
   "execution_count": 28,
   "id": "7553efc7",
   "metadata": {},
   "outputs": [
    {
     "data": {
      "image/png": "[encoded data removed]",
      "text/plain": [
       "<Figure size 432x288 with 1 Axes>"
      ]
     },
     "metadata": {
      "needs_background": "light"
     },
     "output_type": "display_data"
    }
   ],
   "source": [
    "# percentages of no show patients based on gender and Handicap\n",
    "no_show_perc_gender_Handicap = df.groupby(['Gender','Handicap']).mean() * 100\n",
    "no_show_perc_gender_Handicap['No_show'].plot.bar();\n",
    "plt.title('The Percentages of No Show Patients Based on Gender And Handicap')\n",
    "plt.ylabel('No Show Percentage');"
   ]
  },
  {
   "cell_type": "markdown",
   "id": "a160891a",
   "metadata": {},
   "source": [
    "<h6>Based on the chart male  that have Handicap does not miss their appointments more than the other groups.So, we can say that the patient's Gender and Handicap could help us to predict if a patient will show up for their scheduled appointment.</h6>"
   ]
  },
  {
   "cell_type": "markdown",
   "id": "28807433",
   "metadata": {},
   "source": [
    "### Research Question 5 ( Can the Gender and SMS_received be considered as a factor to predict if a patient will show up for their scheduled appointment?!)"
   ]
  },
  {
   "cell_type": "code",
   "execution_count": 29,
   "id": "3adc8b34",
   "metadata": {},
   "outputs": [
    {
     "data": {
      "image/png": "[encoded data removed]",
      "text/plain": [
       "<Figure size 432x288 with 1 Axes>"
      ]
     },
     "metadata": {
      "needs_background": "light"
     },
     "output_type": "display_data"
    }
   ],
   "source": [
    "# percentages of no show patients based on gender and SMS_received\n",
    "no_show_perc_gender_SMS_received = df.groupby(['Gender','SMS_received']).mean() * 100\n",
    "# plot a bar chart\n",
    "no_show_perc_gender_SMS_received['No_show'].plot.bar();\n",
    "plt.title('The Percentages of No Show Patients Based on Gender And SMS_received')\n",
    "plt.ylabel('No Show Percentage');"
   ]
  },
  {
   "cell_type": "markdown",
   "id": "e7e2606d",
   "metadata": {},
   "source": [
    "<h6>Based on the chart Famale and male  that receeived SMS missed their appointments more than the other groups.So, we can say that the patient's Gender and Scholarship could help us to predict if a patient will show up for their scheduled appointment.</h6>"
   ]
  },
  {
   "cell_type": "markdown",
   "id": "bc6defca",
   "metadata": {},
   "source": [
    "### Research Question 6 ( Can the Alcoholism and diseases be considered as a factor to predict if a patient will show up for their scheduled appointment?!)"
   ]
  },
  {
   "cell_type": "code",
   "execution_count": 30,
   "id": "31963079",
   "metadata": {},
   "outputs": [
    {
     "data": {
      "image/png": "[encoded data removed]",
      "text/plain": [
       "<Figure size 432x288 with 1 Axes>"
      ]
     },
     "metadata": {
      "needs_background": "light"
     },
     "output_type": "display_data"
    }
   ],
   "source": [
    "# percentages of no show patients based on Alcoholism and diseases\n",
    "no_show_perc_Alcoholism_diseases = df.groupby(['Alcoholism','Hypertension','Diabetes']).No_show.mean() * 100\n",
    "\n",
    "# plot a bar chart\n",
    "no_show_perc_Alcoholism_diseases.plot.bar();\n",
    "plt.title('The Percentages of No Show Patients Based on Alcoholism and diseases')\n",
    "plt.ylabel('No Show Percentage');\n"
   ]
  },
  {
   "cell_type": "markdown",
   "id": "7366ddf6",
   "metadata": {},
   "source": [
    "<h6>Based on the chart Alcoholism that Have not diseases is missed their appointments more than the other groups.So, we can say that the patient's Gender and Scholarship could help us to predict if a patient will show up for their scheduled appointment.</h6>"
   ]
  },
  {
   "cell_type": "markdown",
   "id": "77e423e3",
   "metadata": {},
   "source": [
    "### Research Question 7 ( Can the Age be considered as a factor to predict if a patient will show up for their scheduled appointment?!)"
   ]
  },
  {
   "cell_type": "code",
   "execution_count": 31,
   "id": "3576e024",
   "metadata": {},
   "outputs": [
    {
     "data": {
      "image/png": "[encoded data removed]",
      "text/plain": [
       "<Figure size 1152x288 with 1 Axes>"
      ]
     },
     "metadata": {
      "needs_background": "light"
     },
     "output_type": "display_data"
    }
   ],
   "source": [
    "show = df.No_show==0 # declare variable show that == 0\n",
    "noshow = df.No_show==1 # declare variable noshow that == 11\n",
    "# make function take DataFram and col_name\n",
    "def age_attendance(df,col_name):\n",
    "    # histogram plot\n",
    "    plt.figure(figsize = [16, 4]) \n",
    "    df[col_name][show].hist(alpha=0.75,bins=10,color='blue',label='show')\n",
    "    df[col_name][noshow].hist(alpha=1,bins=10,color='red',label='no_show')\n",
    "    plt.legend();\n",
    "    \n",
    "    plt.title('The Percentages of No Show Patients Based on Age Group')\n",
    "    plt.xlabel('Age')\n",
    "    plt.ylabel('Patient Number');\n",
    "age_attendance(df,'Age')"
   ]
  },
  {
   "cell_type": "markdown",
   "id": "0f1fa681",
   "metadata": {},
   "source": [
    "<h6>Based on the chart age group we see that from 0-8 years group does not miss their appointments and also 23-30 years group and the larg show up from 60 to above.So, we can say that the patient's Age group could help us to predict if a patient will show up for their scheduled appointment.</h6>"
   ]
  },
  {
   "cell_type": "markdown",
   "id": "7ac31e2d",
   "metadata": {},
   "source": [
    "### Research Question 8 ( Can the Gender be considered as a factor to predict if a patient will show up for their scheduled appointment?!)"
   ]
  },
  {
   "cell_type": "code",
   "execution_count": 32,
   "id": "ffe5232e",
   "metadata": {
    "scrolled": true
   },
   "outputs": [
    {
     "data": {
      "image/png": "[encoded data removed]",
      "text/plain": [
       "<Figure size 1152x288 with 1 Axes>"
      ]
     },
     "metadata": {
      "needs_background": "light"
     },
     "output_type": "display_data"
    }
   ],
   "source": [
    "show = df.No_show==0 # declare variable show that == 0\n",
    "noshow = df.No_show==1 # declare variable noshow that == 11\n",
    "# make function take DataFram and col_name\n",
    "def age_attendance(df,col_name):\n",
    "    # histogram plot\n",
    "    plt.figure(figsize = [16, 4]) \n",
    "    df[col_name][show].hist(alpha=0.75,bins=10,color='blue',label='show')\n",
    "    df[col_name][noshow].hist(alpha=1,bins=10,color='red',label='no_show')\n",
    "    plt.legend();\n",
    "    \n",
    "    plt.title('The Percentages of No Show Patients Based on Gender')\n",
    "    plt.xlabel('Gender')\n",
    "    plt.ylabel('Patient Number');\n",
    "age_attendance(df,'Gender')"
   ]
  },
  {
   "cell_type": "markdown",
   "id": "049d5db4",
   "metadata": {},
   "source": [
    "<h6> we can see that the presentage of no show for the patient Famele is same the presentage of no show for the patient Male so we can't depend on it only to predict </h6>"
   ]
  },
  {
   "cell_type": "markdown",
   "id": "d95c1650",
   "metadata": {},
   "source": [
    "### Research Question 9 ( Can the Scholarship be considered as a factor to predict if a patient will show up for their scheduled appointment?!)"
   ]
  },
  {
   "cell_type": "code",
   "execution_count": 33,
   "id": "391427ea",
   "metadata": {
    "scrolled": true
   },
   "outputs": [
    {
     "data": {
      "image/png": "[encoded data removed]",
      "text/plain": [
       "<Figure size 1152x288 with 1 Axes>"
      ]
     },
     "metadata": {
      "needs_background": "light"
     },
     "output_type": "display_data"
    }
   ],
   "source": [
    "show = df.No_show==0 # declare variable show that == 0\n",
    "noshow = df.No_show==1 # declare variable noshow that == 11\n",
    "# make function take DataFram and col_name\n",
    "def age_attendance(df,col_name):\n",
    "    # histogram plot\n",
    "    plt.figure(figsize = [16, 4]) \n",
    "    df[col_name][show].hist(alpha=0.75,bins=10,color='blue',label='show')\n",
    "    df[col_name][noshow].hist(alpha=1,bins=10,color='red',label='no_show')\n",
    "    plt.legend();\n",
    "    \n",
    "    plt.title('The Percentages of No Show Patients Based on Age Group')\n",
    "    plt.xlabel('Scholarship')\n",
    "    plt.ylabel('Patient Number');\n",
    "age_attendance(df,'Scholarship')"
   ]
  },
  {
   "cell_type": "markdown",
   "id": "0363cd56",
   "metadata": {},
   "source": [
    "<h6> we can see that the presentage of no show for the patient have Scholarship is less than the patient have not Scholarship but also the diffrance between patient number have Scholarship and patient number no have Scholarship is very large so we can't depend on it only to predict but we can ake about the reason of this</h6>"
   ]
  },
  {
   "cell_type": "markdown",
   "id": "56de1159",
   "metadata": {},
   "source": [
    "### Research Question 10 ( Can the Alcoholism be considered as a factor to predict if a patient will show up for their scheduled appointment?!)"
   ]
  },
  {
   "cell_type": "code",
   "execution_count": 34,
   "id": "cdd89418",
   "metadata": {},
   "outputs": [
    {
     "data": {
      "image/png": "[encoded data removed]",
      "text/plain": [
       "<Figure size 1152x288 with 1 Axes>"
      ]
     },
     "metadata": {
      "needs_background": "light"
     },
     "output_type": "display_data"
    }
   ],
   "source": [
    "show = df.No_show==0 # declare variable show that == 0\n",
    "noshow = df.No_show==1 # declare variable noshow that == 11\n",
    "# make function take DataFram and col_name\n",
    "def age_attendance(df,col_name):\n",
    "    # histogram plot\n",
    "    plt.figure(figsize = [16, 4]) \n",
    "    df[col_name][show].hist(alpha=0.75,bins=10,color='blue',label='show')\n",
    "    df[col_name][noshow].hist(alpha=1,bins=10,color='red',label='no_show')\n",
    "    plt.legend();\n",
    "    \n",
    "    plt.title('The Percentages of No Show Patients Based on Alcoholism ')\n",
    "    plt.xlabel('Alcoholism')\n",
    "    plt.ylabel('Patient Number');\n",
    "age_attendance(df,'Alcoholism')"
   ]
  },
  {
   "cell_type": "markdown",
   "id": "a5df091d",
   "metadata": {},
   "source": [
    "<h6> we can see that the presentage of no show for the patient Alcoholism is less than the patient not Alcoholism but also the diffrance between patient number Alcoholism and patient number no Alcoholism is very large so we can't depend on it only to predict </h6>"
   ]
  },
  {
   "cell_type": "markdown",
   "id": "73838ee8",
   "metadata": {},
   "source": [
    "### Research Question 11 ( Can the SMS_received be considered as a factor to predict if a patient will show up for their scheduled appointment?!)"
   ]
  },
  {
   "cell_type": "code",
   "execution_count": 35,
   "id": "42ad2487",
   "metadata": {
    "scrolled": true
   },
   "outputs": [
    {
     "data": {
      "image/png": "[encoded data removed]",
      "text/plain": [
       "<Figure size 1152x288 with 1 Axes>"
      ]
     },
     "metadata": {
      "needs_background": "light"
     },
     "output_type": "display_data"
    }
   ],
   "source": [
    "show = df.No_show==0 # declare variable show that == 0\n",
    "noshow = df.No_show==1 # declare variable noshow that == 11\n",
    "# make function take DataFram and col_name\n",
    "def age_attendance(df,col_name):\n",
    "    # histogram plot\n",
    "    plt.figure(figsize = [16, 4]) \n",
    "    df[col_name][show].hist(alpha=0.75,bins=10,color='blue',label='show')\n",
    "    df[col_name][noshow].hist(alpha=1,bins=10,color='red',label='no_show')\n",
    "    plt.legend();\n",
    "    \n",
    "    plt.title('The Percentages of No Show Patients Based on SMS_received')\n",
    "    plt.xlabel('SMS_received')\n",
    "    plt.ylabel('Patient Number');\n",
    "age_attendance(df,'SMS_received')"
   ]
  },
  {
   "cell_type": "markdown",
   "id": "dc3ef01b",
   "metadata": {},
   "source": [
    "<h6> we can see that the presentage of no show for the patient have SMS_received is  same for  the patient have not SMS_received but also the diffrance between patient number have SMS_received and patient number no have SMS_received is very little so we can depend on it only to predict and ask deos the maseage format not good? </h6>"
   ]
  },
  {
   "cell_type": "markdown",
   "id": "477a3dd9",
   "metadata": {},
   "source": [
    "### Research Question 12 ( Can the Handicap be considered as a factor to predict if a patient will show up for their scheduled appointment?!)"
   ]
  },
  {
   "cell_type": "code",
   "execution_count": 36,
   "id": "098a0e99",
   "metadata": {},
   "outputs": [
    {
     "data": {
      "image/png": "[encoded data removed]",
      "text/plain": [
       "<Figure size 1152x288 with 1 Axes>"
      ]
     },
     "metadata": {
      "needs_background": "light"
     },
     "output_type": "display_data"
    }
   ],
   "source": [
    "show = df.No_show==0 # declare variable show that == 0\n",
    "noshow = df.No_show==1 # declare variable noshow that == 11\n",
    "# make function take DataFram and col_name\n",
    "def age_attendance(df,col_name):\n",
    "    # histogram plot\n",
    "    plt.figure(figsize = [16, 4]) \n",
    "    df[col_name][show].hist(alpha=0.75,bins=10,color='blue',label='show')\n",
    "    df[col_name][noshow].hist(alpha=1,bins=10,color='red',label='no_show')\n",
    "    plt.legend();\n",
    "    \n",
    "    plt.title('The Percentages of No Show Patients Based on Handicap')\n",
    "    plt.xlabel('Handicap')\n",
    "    plt.ylabel('Patient Number');\n",
    "age_attendance(df,'Handicap')"
   ]
  },
  {
   "cell_type": "markdown",
   "id": "ee4fbeef",
   "metadata": {},
   "source": [
    "<h6> we can see that the presentage of no show for the patient have Handicap is less than the patient have not Handicap but also the diffrance between patient number have Handicap and patient number no have Handicap is very large so we can't depend on it only to predict </h6>"
   ]
  },
  {
   "cell_type": "markdown",
   "id": "c60d1c07",
   "metadata": {},
   "source": [
    "### Research Question 13 ( Can the Diabetes be considered as a factor to predict if a patient will show up for their scheduled appointment?!)"
   ]
  },
  {
   "cell_type": "code",
   "execution_count": 37,
   "id": "04aa5336",
   "metadata": {},
   "outputs": [
    {
     "data": {
      "image/png": "[encoded data removed]",
      "text/plain": [
       "<Figure size 1152x288 with 1 Axes>"
      ]
     },
     "metadata": {
      "needs_background": "light"
     },
     "output_type": "display_data"
    }
   ],
   "source": [
    "show = df.No_show==0 # declare variable show that == 0\n",
    "noshow = df.No_show==1 # declare variable noshow that == 11\n",
    "# make function take DataFram and col_name\n",
    "def age_attendance(df,col_name):\n",
    "    # histogram plot\n",
    "    plt.figure(figsize = [16, 4]) \n",
    "    df[col_name][show].hist(alpha=0.75,bins=10,color='blue',label='show')\n",
    "    df[col_name][noshow].hist(alpha=1,bins=10,color='red',label='no_show')\n",
    "    plt.legend();\n",
    "    \n",
    "    plt.title('The Percentages of No Show Patients Based on Diabetes')\n",
    "    plt.xlabel('Diabetes')\n",
    "    plt.ylabel('Patient Number');\n",
    "age_attendance(df,'Diabetes')"
   ]
  },
  {
   "cell_type": "markdown",
   "id": "7c9f99ba",
   "metadata": {},
   "source": [
    "<h6> we can see that the presentage of no show for the patient have Diabetes is less than the patient have not Diabetes but also the diffrance between patient number have Diabetes and patient number no have Diabetes is very large so we can't depend on it only to predict </h6>"
   ]
  },
  {
   "cell_type": "markdown",
   "id": "619a2376",
   "metadata": {},
   "source": [
    "### Research Question 14 ( Can the Hypertension  be considered as a factor to predict if a patient will show up for their scheduled appointment?!)"
   ]
  },
  {
   "cell_type": "code",
   "execution_count": 38,
   "id": "b8c74d5f",
   "metadata": {},
   "outputs": [
    {
     "data": {
      "image/png": "[encoded data removed]",
      "text/plain": [
       "<Figure size 1152x288 with 1 Axes>"
      ]
     },
     "metadata": {
      "needs_background": "light"
     },
     "output_type": "display_data"
    }
   ],
   "source": [
    "show = df.No_show==0 # declare variable show that == 0\n",
    "noshow = df.No_show==1 # declare variable noshow that == 11\n",
    "# make function take DataFram and col_name\n",
    "def age_attendance(df,col_name):\n",
    "    # histogram plot\n",
    "    plt.figure(figsize = [16, 4]) \n",
    "    df[col_name][show].hist(alpha=0.75,bins=10,color='blue',label='show')\n",
    "    df[col_name][noshow].hist(alpha=1,bins=10,color='red',label='no_show')\n",
    "    plt.legend();\n",
    "    \n",
    "    plt.title('The Percentages of No Show Patients Based on Hypertension')\n",
    "    plt.xlabel('Hypertension')\n",
    "    plt.ylabel('Patient Number');\n",
    "age_attendance(df,'Hypertension')"
   ]
  },
  {
   "cell_type": "markdown",
   "id": "86d32ca2",
   "metadata": {},
   "source": [
    "<h6> we can see that the presentage of no show for the patient have Hypertension is less than the patient have not Hypertension but also the diffrance between patient number have Hypertension and patient number no have Hypertension is very large so we can't depend on it only to predict </h6>"
   ]
  },
  {
   "cell_type": "markdown",
   "id": "3f448138",
   "metadata": {},
   "source": [
    "### Research Question 15 (Can the waiting period between scheduled day and appointment day be considered as a factor to predict if a patient will show up for their scheduled appointment?!)"
   ]
  },
  {
   "cell_type": "code",
   "execution_count": 39,
   "id": "7b8d2e1e",
   "metadata": {
    "scrolled": true
   },
   "outputs": [
    {
     "data": {
      "text/html": [
       "<div>\n",
       "<style scoped>\n",
       "    .dataframe tbody tr th:only-of-type {\n",
       "        vertical-align: middle;\n",
       "    }\n",
       "\n",
       "    .dataframe tbody tr th {\n",
       "        vertical-align: top;\n",
       "    }\n",
       "\n",
       "    .dataframe thead th {\n",
       "        text-align: right;\n",
       "    }\n",
       "</style>\n",
       "<table border=\"1\" class=\"dataframe\">\n",
       "  <thead>\n",
       "    <tr style=\"text-align: right;\">\n",
       "      <th></th>\n",
       "      <th>Gender</th>\n",
       "      <th>Scheduled_Day</th>\n",
       "      <th>Appointment_Day</th>\n",
       "      <th>days_between</th>\n",
       "      <th>Age</th>\n",
       "      <th>Neighbourhood</th>\n",
       "      <th>Scholarship</th>\n",
       "      <th>Hypertension</th>\n",
       "      <th>Diabetes</th>\n",
       "      <th>Alcoholism</th>\n",
       "      <th>Handicap</th>\n",
       "      <th>SMS_received</th>\n",
       "      <th>No_show</th>\n",
       "    </tr>\n",
       "  </thead>\n",
       "  <tbody>\n",
       "    <tr>\n",
       "      <th>0</th>\n",
       "      <td>F</td>\n",
       "      <td>2016-04-29 18:38:08+00:00</td>\n",
       "      <td>2016-04-29 00:00:00+00:00</td>\n",
       "      <td>-1</td>\n",
       "      <td>62</td>\n",
       "      <td>JARDIM DA PENHA</td>\n",
       "      <td>0</td>\n",
       "      <td>1</td>\n",
       "      <td>0</td>\n",
       "      <td>0</td>\n",
       "      <td>0</td>\n",
       "      <td>0</td>\n",
       "      <td>0</td>\n",
       "    </tr>\n",
       "    <tr>\n",
       "      <th>1</th>\n",
       "      <td>M</td>\n",
       "      <td>2016-04-29 16:08:27+00:00</td>\n",
       "      <td>2016-04-29 00:00:00+00:00</td>\n",
       "      <td>-1</td>\n",
       "      <td>56</td>\n",
       "      <td>JARDIM DA PENHA</td>\n",
       "      <td>0</td>\n",
       "      <td>0</td>\n",
       "      <td>0</td>\n",
       "      <td>0</td>\n",
       "      <td>0</td>\n",
       "      <td>0</td>\n",
       "      <td>0</td>\n",
       "    </tr>\n",
       "    <tr>\n",
       "      <th>2</th>\n",
       "      <td>F</td>\n",
       "      <td>2016-04-29 16:19:04+00:00</td>\n",
       "      <td>2016-04-29 00:00:00+00:00</td>\n",
       "      <td>-1</td>\n",
       "      <td>62</td>\n",
       "      <td>MATA DA PRAIA</td>\n",
       "      <td>0</td>\n",
       "      <td>0</td>\n",
       "      <td>0</td>\n",
       "      <td>0</td>\n",
       "      <td>0</td>\n",
       "      <td>0</td>\n",
       "      <td>0</td>\n",
       "    </tr>\n",
       "    <tr>\n",
       "      <th>3</th>\n",
       "      <td>F</td>\n",
       "      <td>2016-04-29 17:29:31+00:00</td>\n",
       "      <td>2016-04-29 00:00:00+00:00</td>\n",
       "      <td>-1</td>\n",
       "      <td>8</td>\n",
       "      <td>PONTAL DE CAMBURI</td>\n",
       "      <td>0</td>\n",
       "      <td>0</td>\n",
       "      <td>0</td>\n",
       "      <td>0</td>\n",
       "      <td>0</td>\n",
       "      <td>0</td>\n",
       "      <td>0</td>\n",
       "    </tr>\n",
       "    <tr>\n",
       "      <th>4</th>\n",
       "      <td>F</td>\n",
       "      <td>2016-04-29 16:07:23+00:00</td>\n",
       "      <td>2016-04-29 00:00:00+00:00</td>\n",
       "      <td>-1</td>\n",
       "      <td>56</td>\n",
       "      <td>JARDIM DA PENHA</td>\n",
       "      <td>0</td>\n",
       "      <td>1</td>\n",
       "      <td>1</td>\n",
       "      <td>0</td>\n",
       "      <td>0</td>\n",
       "      <td>0</td>\n",
       "      <td>0</td>\n",
       "    </tr>\n",
       "  </tbody>\n",
       "</table>\n",
       "</div>"
      ],
      "text/plain": [
       "  Gender             Scheduled_Day           Appointment_Day  days_between  \\\n",
       "0      F 2016-04-29 18:38:08+00:00 2016-04-29 00:00:00+00:00            -1   \n",
       "1      M 2016-04-29 16:08:27+00:00 2016-04-29 00:00:00+00:00            -1   \n",
       "2      F 2016-04-29 16:19:04+00:00 2016-04-29 00:00:00+00:00            -1   \n",
       "3      F 2016-04-29 17:29:31+00:00 2016-04-29 00:00:00+00:00            -1   \n",
       "4      F 2016-04-29 16:07:23+00:00 2016-04-29 00:00:00+00:00            -1   \n",
       "\n",
       "   Age      Neighbourhood  Scholarship  Hypertension  Diabetes  Alcoholism  \\\n",
       "0   62    JARDIM DA PENHA            0             1         0           0   \n",
       "1   56    JARDIM DA PENHA            0             0         0           0   \n",
       "2   62      MATA DA PRAIA            0             0         0           0   \n",
       "3    8  PONTAL DE CAMBURI            0             0         0           0   \n",
       "4   56    JARDIM DA PENHA            0             1         1           0   \n",
       "\n",
       "   Handicap  SMS_received  No_show  \n",
       "0         0             0        0  \n",
       "1         0             0        0  \n",
       "2         0             0        0  \n",
       "3         0             0        0  \n",
       "4         0             0        0  "
      ]
     },
     "execution_count": 39,
     "metadata": {},
     "output_type": "execute_result"
    }
   ],
   "source": [
    "# calculate days between scheduled_day and appointment_day\n",
    "days_between = (df['Appointment_Day'] - df['Scheduled_Day']).dt.days\n",
    "# insert a new column (days_between) before column 3\n",
    "df.insert(3, 'days_between', days_between)\n",
    "df.head()"
   ]
  },
  {
   "cell_type": "markdown",
   "id": "20a8f4b2",
   "metadata": {},
   "source": [
    "<h4> inserted successfully</h4>"
   ]
  },
  {
   "cell_type": "code",
   "execution_count": 40,
   "id": "d87102d2",
   "metadata": {
    "scrolled": true
   },
   "outputs": [
    {
     "data": {
      "text/html": [
       "<div>\n",
       "<style scoped>\n",
       "    .dataframe tbody tr th:only-of-type {\n",
       "        vertical-align: middle;\n",
       "    }\n",
       "\n",
       "    .dataframe tbody tr th {\n",
       "        vertical-align: top;\n",
       "    }\n",
       "\n",
       "    .dataframe thead th {\n",
       "        text-align: right;\n",
       "    }\n",
       "</style>\n",
       "<table border=\"1\" class=\"dataframe\">\n",
       "  <thead>\n",
       "    <tr style=\"text-align: right;\">\n",
       "      <th></th>\n",
       "      <th>Gender</th>\n",
       "      <th>Scheduled_Day</th>\n",
       "      <th>Appointment_Day</th>\n",
       "      <th>days_between</th>\n",
       "      <th>Age</th>\n",
       "      <th>Neighbourhood</th>\n",
       "      <th>Scholarship</th>\n",
       "      <th>Hypertension</th>\n",
       "      <th>Diabetes</th>\n",
       "      <th>Alcoholism</th>\n",
       "      <th>Handicap</th>\n",
       "      <th>SMS_received</th>\n",
       "      <th>No_show</th>\n",
       "    </tr>\n",
       "  </thead>\n",
       "  <tbody>\n",
       "  </tbody>\n",
       "</table>\n",
       "</div>"
      ],
      "text/plain": [
       "Empty DataFrame\n",
       "Columns: [Gender, Scheduled_Day, Appointment_Day, days_between, Age, Neighbourhood, Scholarship, Hypertension, Diabetes, Alcoholism, Handicap, SMS_received, No_show]\n",
       "Index: []"
      ]
     },
     "execution_count": 40,
     "metadata": {},
     "output_type": "execute_result"
    }
   ],
   "source": [
    "# percentages of no show patients based on gender and Alcoholism\n",
    "negative_days = df.query('days_between < 0')\n",
    "df.drop(negative_days.index, inplace=True)\n",
    "df.query('days_between < 0')"
   ]
  },
  {
   "cell_type": "markdown",
   "id": "bf93522e",
   "metadata": {},
   "source": [
    "<h4>droped successfully</h4>"
   ]
  },
  {
   "cell_type": "code",
   "execution_count": 41,
   "id": "6e74420d",
   "metadata": {},
   "outputs": [
    {
     "data": {
      "image/png": "[encoded data removed]",
      "text/plain": [
       "<Figure size 1152x288 with 1 Axes>"
      ]
     },
     "metadata": {
      "needs_background": "light"
     },
     "output_type": "display_data"
    }
   ],
   "source": [
    "show = df.No_show==0 # declare variable show that == 0\n",
    "noshow = df.No_show==1 # declare variable noshow that == 11\n",
    "# make function take DataFram and col_name\n",
    "def age_attendance(df,col_name):\n",
    "    # histogram plot\n",
    "    plt.figure(figsize = [16, 4]) \n",
    "    df[col_name][show].hist(alpha=0.75,bins=10,color='blue',label='show')\n",
    "    df[col_name][noshow].hist(alpha=1,bins=10,color='red',label='no_show')\n",
    "    plt.legend();\n",
    "    \n",
    "    plt.title('The Percentages of No Show Patients Based on Age Group')\n",
    "    plt.xlabel('days_between')\n",
    "    plt.ylabel('Patient Number');\n",
    "age_attendance(df,'days_between')"
   ]
  },
  {
   "cell_type": "markdown",
   "id": "7662ef3d",
   "metadata": {},
   "source": [
    "<h6>It's pretty clear that the longer the waiting period is, the more likely the patient will not show up for the appointment.So, we can say that the waiting period could help us to predict if a patient will show up for their scheduled appointment.</h6>"
   ]
  },
  {
   "cell_type": "markdown",
   "id": "6f98bc95",
   "metadata": {},
   "source": [
    "<a id='conclusions'></a>\n",
    "## Conclusions\n",
    "<li>The Data set have 110,527 appointments </li>\n",
    "<li>About 80% of patient showed </li>\n",
    "<li>Female is about 65% from Patient </li>\n",
    "<li>About 10% of patient have Scholarship</li>\n",
    "<li>About 20% of patient have Hipertension</li>\n",
    "<li>About 7% of patient have Diabetes</li>\n",
    "<li>About 3% of patient have Alcoholism</li>\n",
    "<li>About 32% of patient have SMS_received</li>\n",
    "<li>There are some data wrong like age is nigative  </li>\n",
    "<li>Some of Dtype of columns should be change like Scheduled_Day abd Appointment_Day</li>\n",
    "\n",
    "\n",
    "\n",
    "### Limitation:\n",
    "<li>just 40 day for 110,527 Appointment_Day </li>\n",
    "<li>Appointment time wasn't given, which could be very useful.</li>\n",
    "\n"
   ]
  },
  {
   "cell_type": "code",
   "execution_count": 42,
   "id": "aeeaa8fd",
   "metadata": {},
   "outputs": [
    {
     "data": {
      "text/plain": [
       "4294967295"
      ]
     },
     "execution_count": 42,
     "metadata": {},
     "output_type": "execute_result"
    }
   ],
   "source": [
    "from subprocess import call\n",
    "call(['python', '-m', 'nbconvert', 'Untitled2.ipynb'])"
   ]
  }
 ],
 "metadata": {
  "kernelspec": {
   "display_name": "Python 3 (ipykernel)",
   "language": "python",
   "name": "python3"
  },
  "language_info": {
   "codemirror_mode": {
    "name": "ipython",
    "version": 3
   },
   "file_extension": ".py",
   "mimetype": "text/x-python",
   "name": "python",
   "nbconvert_exporter": "python",
   "pygments_lexer": "ipython3",
   "version": "3.9.7"
  }
 },
 "nbformat": 4,
 "nbformat_minor": 5
}
